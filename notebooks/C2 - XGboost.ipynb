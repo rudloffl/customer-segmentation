{
 "cells": [
  {
   "cell_type": "code",
   "execution_count": 1,
   "metadata": {},
   "outputs": [],
   "source": [
    "#Package loading\n",
    "import pandas as pd\n",
    "import numpy as np\n",
    "from datetime import datetime\n",
    "from sklearn import preprocessing\n",
    "from sklearn import decomposition\n",
    "#from sklearn.model_selection import train_test_split\n",
    "from sklearn import metrics\n",
    "import matplotlib.pyplot as plt\n",
    "import seaborn as sns\n",
    "#plt.style.use('seaborn-notebook')\n",
    "from sklearn.ensemble import RandomForestClassifier\n",
    "from sklearn.metrics import precision_score\n",
    "from sklearn.metrics import accuracy_score\n",
    "from sklearn.model_selection import GridSearchCV\n",
    "from sklearn.metrics import make_scorer\n",
    "from sklearn.model_selection import StratifiedKFold\n",
    "from sklearn.metrics import fbeta_score\n",
    "from sklearn.ensemble import RandomForestClassifier, AdaBoostClassifier, GradientBoostingClassifier\n",
    "import xgboost as xgb\n",
    "from sklearn.metrics import f1_score\n",
    "import random\n",
    "import matplotlib.pyplot as plt\n",
    "plt.style.use('seaborn-notebook')\n",
    "from sklearn.metrics import confusion_matrix"
   ]
  },
  {
   "cell_type": "code",
   "execution_count": 2,
   "metadata": {},
   "outputs": [
    {
     "data": {
      "text/plain": [
       "(17833, 112)"
      ]
     },
     "execution_count": 2,
     "metadata": {},
     "output_type": "execute_result"
    }
   ],
   "source": [
    "#CSV loading\n",
    "#Data loading\n",
    "dataset2 = pd.read_csv('Z1 - lastweek-P1MC5W1.csv', index_col = 'Unnamed: 0', parse_dates = ['LastInvoice', 'Timestamp'])\n",
    "#print(dataset2.columns.values)\n",
    "dataset2.shape\n"
   ]
  },
  {
   "cell_type": "code",
   "execution_count": 3,
   "metadata": {},
   "outputs": [],
   "source": [
    "#CSV loading from api\n",
    "#Data loading\n",
    "#dataset2 = pd.read_csv('status.csv', index_col = 'Unnamed: 0', parse_dates = ['LastInvoice', 'Timestamp'])\n",
    "#print(dataset2.columns.values)\n",
    "#dataset2.shape\n"
   ]
  },
  {
   "cell_type": "code",
   "execution_count": 4,
   "metadata": {},
   "outputs": [
    {
     "data": {
      "text/plain": [
       "(17833, 112)"
      ]
     },
     "execution_count": 4,
     "metadata": {},
     "output_type": "execute_result"
    }
   ],
   "source": [
    "#Copy of the CSV file\n",
    "dataset = dataset2\n",
    "dataset.shape"
   ]
  },
  {
   "cell_type": "code",
   "execution_count": 5,
   "metadata": {},
   "outputs": [
    {
     "data": {
      "text/plain": [
       "(1000, 112)"
      ]
     },
     "execution_count": 5,
     "metadata": {},
     "output_type": "execute_result"
    }
   ],
   "source": [
    "#downsampling for test\n",
    "dataset = dataset2.sample(n=1000)\n",
    "dataset.shape"
   ]
  },
  {
   "cell_type": "code",
   "execution_count": 6,
   "metadata": {},
   "outputs": [
    {
     "data": {
      "text/html": [
       "<div>\n",
       "<style scoped>\n",
       "    .dataframe tbody tr th:only-of-type {\n",
       "        vertical-align: middle;\n",
       "    }\n",
       "\n",
       "    .dataframe tbody tr th {\n",
       "        vertical-align: top;\n",
       "    }\n",
       "\n",
       "    .dataframe thead th {\n",
       "        text-align: right;\n",
       "    }\n",
       "</style>\n",
       "<table border=\"1\" class=\"dataframe\">\n",
       "  <thead>\n",
       "    <tr style=\"text-align: right;\">\n",
       "      <th></th>\n",
       "      <th>Timestamp</th>\n",
       "    </tr>\n",
       "    <tr>\n",
       "      <th>RFMDC</th>\n",
       "      <th></th>\n",
       "    </tr>\n",
       "  </thead>\n",
       "  <tbody>\n",
       "    <tr>\n",
       "      <th>23321</th>\n",
       "      <td>1</td>\n",
       "    </tr>\n",
       "    <tr>\n",
       "      <th>22232</th>\n",
       "      <td>1</td>\n",
       "    </tr>\n",
       "    <tr>\n",
       "      <th>42423</th>\n",
       "      <td>1</td>\n",
       "    </tr>\n",
       "    <tr>\n",
       "      <th>22222</th>\n",
       "      <td>1</td>\n",
       "    </tr>\n",
       "    <tr>\n",
       "      <th>32243</th>\n",
       "      <td>1</td>\n",
       "    </tr>\n",
       "  </tbody>\n",
       "</table>\n",
       "</div>"
      ],
      "text/plain": [
       "       Timestamp\n",
       "RFMDC           \n",
       "23321          1\n",
       "22232          1\n",
       "42423          1\n",
       "22222          1\n",
       "32243          1"
      ]
     },
     "execution_count": 6,
     "metadata": {},
     "output_type": "execute_result"
    }
   ],
   "source": [
    "#Data split per RFM code\n",
    "dataset[['Timestamp', 'RFMDC']].groupby('RFMDC').count().sort_values('Timestamp').head()"
   ]
  },
  {
   "cell_type": "code",
   "execution_count": 7,
   "metadata": {},
   "outputs": [
    {
     "data": {
      "text/html": [
       "<div>\n",
       "<style scoped>\n",
       "    .dataframe tbody tr th:only-of-type {\n",
       "        vertical-align: middle;\n",
       "    }\n",
       "\n",
       "    .dataframe tbody tr th {\n",
       "        vertical-align: top;\n",
       "    }\n",
       "\n",
       "    .dataframe thead th {\n",
       "        text-align: right;\n",
       "    }\n",
       "</style>\n",
       "<table border=\"1\" class=\"dataframe\">\n",
       "  <thead>\n",
       "    <tr style=\"text-align: right;\">\n",
       "      <th></th>\n",
       "      <th>Weekday</th>\n",
       "      <th>Timestamp</th>\n",
       "    </tr>\n",
       "  </thead>\n",
       "  <tbody>\n",
       "    <tr>\n",
       "      <th>2723</th>\n",
       "      <td>2</td>\n",
       "      <td>2011-12-07</td>\n",
       "    </tr>\n",
       "    <tr>\n",
       "      <th>704</th>\n",
       "      <td>2</td>\n",
       "      <td>2011-12-07</td>\n",
       "    </tr>\n",
       "    <tr>\n",
       "      <th>891</th>\n",
       "      <td>0</td>\n",
       "      <td>2011-12-05</td>\n",
       "    </tr>\n",
       "    <tr>\n",
       "      <th>1537</th>\n",
       "      <td>4</td>\n",
       "      <td>2011-12-09</td>\n",
       "    </tr>\n",
       "    <tr>\n",
       "      <th>556</th>\n",
       "      <td>1</td>\n",
       "      <td>2011-12-06</td>\n",
       "    </tr>\n",
       "  </tbody>\n",
       "</table>\n",
       "</div>"
      ],
      "text/plain": [
       "      Weekday  Timestamp\n",
       "2723        2 2011-12-07\n",
       "704         2 2011-12-07\n",
       "891         0 2011-12-05\n",
       "1537        4 2011-12-09\n",
       "556         1 2011-12-06"
      ]
     },
     "execution_count": 7,
     "metadata": {},
     "output_type": "execute_result"
    }
   ],
   "source": [
    "#datastamping addition on dataset\n",
    "dataset['Weekday'] = dataset['Timestamp'].apply(lambda x: x.weekday())\n",
    "\n",
    "dataset[['Weekday', 'Timestamp']].head()"
   ]
  },
  {
   "cell_type": "code",
   "execution_count": 8,
   "metadata": {},
   "outputs": [
    {
     "name": "stdout",
     "output_type": "stream",
     "text": [
      "M\n",
      "12 12 215\n",
      "12 12 231\n",
      "11 11 213\n",
      "11 11 201\n",
      "F\n",
      "13 13 242\n",
      "14 14 253\n",
      "1 1 23\n",
      "19 16 342\n",
      "R\n",
      "12 10 227\n",
      "12 9 221\n",
      "11 10 203\n",
      "11 10 209\n",
      "D\n",
      "12 10 224\n",
      "11 9 211\n",
      "11 10 214\n",
      "11 8 211\n",
      "C\n",
      "42 38 752\n",
      "4 2 80\n",
      "1 1 28\n"
     ]
    },
    {
     "data": {
      "text/plain": [
       "207"
      ]
     },
     "execution_count": 8,
     "metadata": {},
     "output_type": "execute_result"
    }
   ],
   "source": [
    "#data split per criteria\n",
    "criterias = ['M', 'F', 'R', 'D', 'C']\n",
    "testingsize = 0.28\n",
    "testlist = []\n",
    "for criteria in criterias:\n",
    "    df = dataset[[criteria,'CustomerID']].groupby('CustomerID', as_index = False).nth(-1)\n",
    "    df = df[[criteria,'CustomerID']].groupby(criteria)\n",
    "    tempdict = df['CustomerID'].apply(set).to_dict()\n",
    "    print(criteria)\n",
    "    for keys, values in tempdict.items():\n",
    "        rows = random.sample(list(values), int(testingsize * len(values)/len(criterias)))\n",
    "        print(int(testingsize * len(values)/len(criterias)),len([x for x in rows if x not in testlist]) , len(values))\n",
    "        testlist.extend([x for x in rows if x not in testlist])\n",
    "len(testlist)"
   ]
  },
  {
   "cell_type": "code",
   "execution_count": 9,
   "metadata": {},
   "outputs": [],
   "source": [
    "#labels definition\n",
    "target = ['R', 'F', 'M', 'D', 'C', 'RFMDC']\n",
    "variables = [x for x in dataset.columns.values if x not in ['R', 'F', 'M', 'D', 'C', 'RFMDC', 'CustomerID','LastInvoice' ,'Timestamp']]"
   ]
  },
  {
   "cell_type": "code",
   "execution_count": 10,
   "metadata": {},
   "outputs": [
    {
     "data": {
      "text/html": [
       "<div>\n",
       "<style scoped>\n",
       "    .dataframe tbody tr th:only-of-type {\n",
       "        vertical-align: middle;\n",
       "    }\n",
       "\n",
       "    .dataframe tbody tr th {\n",
       "        vertical-align: top;\n",
       "    }\n",
       "\n",
       "    .dataframe thead th {\n",
       "        text-align: right;\n",
       "    }\n",
       "</style>\n",
       "<table border=\"1\" class=\"dataframe\">\n",
       "  <thead>\n",
       "    <tr style=\"text-align: right;\">\n",
       "      <th></th>\n",
       "      <th>CustomerID</th>\n",
       "      <th>LastInvoice</th>\n",
       "      <th>Recency</th>\n",
       "      <th>SpentMin</th>\n",
       "      <th>SpentMax</th>\n",
       "      <th>SpentMean</th>\n",
       "      <th>SpentSum</th>\n",
       "      <th>SpentStd</th>\n",
       "      <th>OrderSepMean</th>\n",
       "      <th>OrderSepMax</th>\n",
       "      <th>...</th>\n",
       "      <th>Weekday_6_Sunday_std</th>\n",
       "      <th>F</th>\n",
       "      <th>R</th>\n",
       "      <th>M</th>\n",
       "      <th>D</th>\n",
       "      <th>RatioCancel</th>\n",
       "      <th>C</th>\n",
       "      <th>RFMDC</th>\n",
       "      <th>Timestamp</th>\n",
       "      <th>Weekday</th>\n",
       "    </tr>\n",
       "  </thead>\n",
       "  <tbody>\n",
       "    <tr>\n",
       "      <th>1537</th>\n",
       "      <td>15639.0</td>\n",
       "      <td>2011-07-28 14:30:00</td>\n",
       "      <td>133</td>\n",
       "      <td>425.32</td>\n",
       "      <td>425.32</td>\n",
       "      <td>425.320</td>\n",
       "      <td>425.32</td>\n",
       "      <td>0.000000</td>\n",
       "      <td>0.000000</td>\n",
       "      <td>0</td>\n",
       "      <td>...</td>\n",
       "      <td>0.000000</td>\n",
       "      <td>4</td>\n",
       "      <td>4</td>\n",
       "      <td>3</td>\n",
       "      <td>2</td>\n",
       "      <td>0.000000</td>\n",
       "      <td>1</td>\n",
       "      <td>44321</td>\n",
       "      <td>2011-12-09</td>\n",
       "      <td>4</td>\n",
       "    </tr>\n",
       "    <tr>\n",
       "      <th>2158</th>\n",
       "      <td>16764.0</td>\n",
       "      <td>2011-12-06 11:41:00</td>\n",
       "      <td>2</td>\n",
       "      <td>-14.45</td>\n",
       "      <td>351.59</td>\n",
       "      <td>152.775</td>\n",
       "      <td>2749.95</td>\n",
       "      <td>114.827915</td>\n",
       "      <td>7.388889</td>\n",
       "      <td>27</td>\n",
       "      <td>...</td>\n",
       "      <td>40.767063</td>\n",
       "      <td>1</td>\n",
       "      <td>1</td>\n",
       "      <td>1</td>\n",
       "      <td>4</td>\n",
       "      <td>-0.014909</td>\n",
       "      <td>1</td>\n",
       "      <td>11141</td>\n",
       "      <td>2011-12-09</td>\n",
       "      <td>4</td>\n",
       "    </tr>\n",
       "    <tr>\n",
       "      <th>1557</th>\n",
       "      <td>15689.0</td>\n",
       "      <td>2011-08-12 09:37:00</td>\n",
       "      <td>114</td>\n",
       "      <td>150.60</td>\n",
       "      <td>150.60</td>\n",
       "      <td>150.600</td>\n",
       "      <td>150.60</td>\n",
       "      <td>0.000000</td>\n",
       "      <td>241.000000</td>\n",
       "      <td>241</td>\n",
       "      <td>...</td>\n",
       "      <td>0.000000</td>\n",
       "      <td>4</td>\n",
       "      <td>4</td>\n",
       "      <td>4</td>\n",
       "      <td>3</td>\n",
       "      <td>0.000000</td>\n",
       "      <td>1</td>\n",
       "      <td>44431</td>\n",
       "      <td>2011-12-05</td>\n",
       "      <td>0</td>\n",
       "    </tr>\n",
       "    <tr>\n",
       "      <th>2447</th>\n",
       "      <td>17286.0</td>\n",
       "      <td>2011-11-18 12:47:00</td>\n",
       "      <td>20</td>\n",
       "      <td>151.37</td>\n",
       "      <td>151.37</td>\n",
       "      <td>151.370</td>\n",
       "      <td>151.37</td>\n",
       "      <td>0.000000</td>\n",
       "      <td>0.000000</td>\n",
       "      <td>0</td>\n",
       "      <td>...</td>\n",
       "      <td>0.000000</td>\n",
       "      <td>4</td>\n",
       "      <td>2</td>\n",
       "      <td>4</td>\n",
       "      <td>3</td>\n",
       "      <td>0.000000</td>\n",
       "      <td>1</td>\n",
       "      <td>24431</td>\n",
       "      <td>2011-12-09</td>\n",
       "      <td>4</td>\n",
       "    </tr>\n",
       "    <tr>\n",
       "      <th>2225</th>\n",
       "      <td>16914.0</td>\n",
       "      <td>2011-11-03 15:27:00</td>\n",
       "      <td>31</td>\n",
       "      <td>183.76</td>\n",
       "      <td>183.76</td>\n",
       "      <td>183.760</td>\n",
       "      <td>183.76</td>\n",
       "      <td>0.000000</td>\n",
       "      <td>0.000000</td>\n",
       "      <td>0</td>\n",
       "      <td>...</td>\n",
       "      <td>0.000000</td>\n",
       "      <td>4</td>\n",
       "      <td>3</td>\n",
       "      <td>4</td>\n",
       "      <td>3</td>\n",
       "      <td>0.000000</td>\n",
       "      <td>1</td>\n",
       "      <td>34431</td>\n",
       "      <td>2011-12-05</td>\n",
       "      <td>0</td>\n",
       "    </tr>\n",
       "  </tbody>\n",
       "</table>\n",
       "<p>5 rows × 113 columns</p>\n",
       "</div>"
      ],
      "text/plain": [
       "      CustomerID         LastInvoice  Recency  SpentMin  SpentMax  SpentMean  \\\n",
       "1537     15639.0 2011-07-28 14:30:00      133    425.32    425.32    425.320   \n",
       "2158     16764.0 2011-12-06 11:41:00        2    -14.45    351.59    152.775   \n",
       "1557     15689.0 2011-08-12 09:37:00      114    150.60    150.60    150.600   \n",
       "2447     17286.0 2011-11-18 12:47:00       20    151.37    151.37    151.370   \n",
       "2225     16914.0 2011-11-03 15:27:00       31    183.76    183.76    183.760   \n",
       "\n",
       "      SpentSum    SpentStd  OrderSepMean  OrderSepMax   ...     \\\n",
       "1537    425.32    0.000000      0.000000            0   ...      \n",
       "2158   2749.95  114.827915      7.388889           27   ...      \n",
       "1557    150.60    0.000000    241.000000          241   ...      \n",
       "2447    151.37    0.000000      0.000000            0   ...      \n",
       "2225    183.76    0.000000      0.000000            0   ...      \n",
       "\n",
       "      Weekday_6_Sunday_std  F  R  M  D  RatioCancel  C  RFMDC  Timestamp  \\\n",
       "1537              0.000000  4  4  3  2     0.000000  1  44321 2011-12-09   \n",
       "2158             40.767063  1  1  1  4    -0.014909  1  11141 2011-12-09   \n",
       "1557              0.000000  4  4  4  3     0.000000  1  44431 2011-12-05   \n",
       "2447              0.000000  4  2  4  3     0.000000  1  24431 2011-12-09   \n",
       "2225              0.000000  4  3  4  3     0.000000  1  34431 2011-12-05   \n",
       "\n",
       "      Weekday  \n",
       "1537        4  \n",
       "2158        4  \n",
       "1557        0  \n",
       "2447        4  \n",
       "2225        0  \n",
       "\n",
       "[5 rows x 113 columns]"
      ]
     },
     "execution_count": 10,
     "metadata": {},
     "output_type": "execute_result"
    }
   ],
   "source": [
    "#testing and training set creation\n",
    "mask = dataset['CustomerID'].isin([x for x in dataset['CustomerID'].unique() if x not in testlist])\n",
    "trainingset = dataset.loc[mask]\n",
    "trainingset.head()\n",
    "\n",
    "mask = dataset['CustomerID'].isin(testlist)\n",
    "testingset = dataset.loc[mask]\n",
    "testingset.head()\n",
    "\n"
   ]
  },
  {
   "cell_type": "code",
   "execution_count": 11,
   "metadata": {},
   "outputs": [
    {
     "data": {
      "text/html": [
       "<div>\n",
       "<style scoped>\n",
       "    .dataframe tbody tr th:only-of-type {\n",
       "        vertical-align: middle;\n",
       "    }\n",
       "\n",
       "    .dataframe tbody tr th {\n",
       "        vertical-align: top;\n",
       "    }\n",
       "\n",
       "    .dataframe thead th {\n",
       "        text-align: right;\n",
       "    }\n",
       "</style>\n",
       "<table border=\"1\" class=\"dataframe\">\n",
       "  <thead>\n",
       "    <tr style=\"text-align: right;\">\n",
       "      <th></th>\n",
       "      <th>Recency</th>\n",
       "      <th>SpentMin</th>\n",
       "      <th>SpentMax</th>\n",
       "      <th>SpentMean</th>\n",
       "      <th>SpentSum</th>\n",
       "      <th>SpentStd</th>\n",
       "      <th>OrderSepMean</th>\n",
       "      <th>OrderSepMax</th>\n",
       "      <th>OrderSepMin</th>\n",
       "      <th>OrderSepStd</th>\n",
       "      <th>...</th>\n",
       "      <th>Weekday_3_Thursday_mean</th>\n",
       "      <th>Weekday_3_Thursday_std</th>\n",
       "      <th>Weekday_4_Friday_sum</th>\n",
       "      <th>Weekday_4_Friday_mean</th>\n",
       "      <th>Weekday_4_Friday_std</th>\n",
       "      <th>Weekday_6_Sunday_sum</th>\n",
       "      <th>Weekday_6_Sunday_mean</th>\n",
       "      <th>Weekday_6_Sunday_std</th>\n",
       "      <th>RatioCancel</th>\n",
       "      <th>Weekday</th>\n",
       "    </tr>\n",
       "  </thead>\n",
       "  <tbody>\n",
       "    <tr>\n",
       "      <th>1537</th>\n",
       "      <td>133</td>\n",
       "      <td>425.32</td>\n",
       "      <td>425.32</td>\n",
       "      <td>425.320</td>\n",
       "      <td>425.32</td>\n",
       "      <td>0.000000</td>\n",
       "      <td>0.000000</td>\n",
       "      <td>0</td>\n",
       "      <td>0</td>\n",
       "      <td>0.000000</td>\n",
       "      <td>...</td>\n",
       "      <td>425.320000</td>\n",
       "      <td>0.000000</td>\n",
       "      <td>0.00</td>\n",
       "      <td>0.000000</td>\n",
       "      <td>0.000000</td>\n",
       "      <td>0.00</td>\n",
       "      <td>0.000000</td>\n",
       "      <td>0.000000</td>\n",
       "      <td>0.000000</td>\n",
       "      <td>4</td>\n",
       "    </tr>\n",
       "    <tr>\n",
       "      <th>2158</th>\n",
       "      <td>2</td>\n",
       "      <td>-14.45</td>\n",
       "      <td>351.59</td>\n",
       "      <td>152.775</td>\n",
       "      <td>2749.95</td>\n",
       "      <td>114.827915</td>\n",
       "      <td>7.388889</td>\n",
       "      <td>27</td>\n",
       "      <td>0</td>\n",
       "      <td>7.701328</td>\n",
       "      <td>...</td>\n",
       "      <td>20.634444</td>\n",
       "      <td>65.303121</td>\n",
       "      <td>1132.21</td>\n",
       "      <td>62.900556</td>\n",
       "      <td>108.983665</td>\n",
       "      <td>172.96</td>\n",
       "      <td>9.608889</td>\n",
       "      <td>40.767063</td>\n",
       "      <td>-0.014909</td>\n",
       "      <td>4</td>\n",
       "    </tr>\n",
       "    <tr>\n",
       "      <th>1557</th>\n",
       "      <td>114</td>\n",
       "      <td>150.60</td>\n",
       "      <td>150.60</td>\n",
       "      <td>150.600</td>\n",
       "      <td>150.60</td>\n",
       "      <td>0.000000</td>\n",
       "      <td>241.000000</td>\n",
       "      <td>241</td>\n",
       "      <td>241</td>\n",
       "      <td>0.000000</td>\n",
       "      <td>...</td>\n",
       "      <td>0.000000</td>\n",
       "      <td>0.000000</td>\n",
       "      <td>150.60</td>\n",
       "      <td>150.600000</td>\n",
       "      <td>0.000000</td>\n",
       "      <td>0.00</td>\n",
       "      <td>0.000000</td>\n",
       "      <td>0.000000</td>\n",
       "      <td>0.000000</td>\n",
       "      <td>0</td>\n",
       "    </tr>\n",
       "    <tr>\n",
       "      <th>2447</th>\n",
       "      <td>20</td>\n",
       "      <td>151.37</td>\n",
       "      <td>151.37</td>\n",
       "      <td>151.370</td>\n",
       "      <td>151.37</td>\n",
       "      <td>0.000000</td>\n",
       "      <td>0.000000</td>\n",
       "      <td>0</td>\n",
       "      <td>0</td>\n",
       "      <td>0.000000</td>\n",
       "      <td>...</td>\n",
       "      <td>0.000000</td>\n",
       "      <td>0.000000</td>\n",
       "      <td>151.37</td>\n",
       "      <td>151.370000</td>\n",
       "      <td>0.000000</td>\n",
       "      <td>0.00</td>\n",
       "      <td>0.000000</td>\n",
       "      <td>0.000000</td>\n",
       "      <td>0.000000</td>\n",
       "      <td>4</td>\n",
       "    </tr>\n",
       "    <tr>\n",
       "      <th>2225</th>\n",
       "      <td>31</td>\n",
       "      <td>183.76</td>\n",
       "      <td>183.76</td>\n",
       "      <td>183.760</td>\n",
       "      <td>183.76</td>\n",
       "      <td>0.000000</td>\n",
       "      <td>0.000000</td>\n",
       "      <td>0</td>\n",
       "      <td>0</td>\n",
       "      <td>0.000000</td>\n",
       "      <td>...</td>\n",
       "      <td>183.760000</td>\n",
       "      <td>0.000000</td>\n",
       "      <td>0.00</td>\n",
       "      <td>0.000000</td>\n",
       "      <td>0.000000</td>\n",
       "      <td>0.00</td>\n",
       "      <td>0.000000</td>\n",
       "      <td>0.000000</td>\n",
       "      <td>0.000000</td>\n",
       "      <td>0</td>\n",
       "    </tr>\n",
       "  </tbody>\n",
       "</table>\n",
       "<p>5 rows × 104 columns</p>\n",
       "</div>"
      ],
      "text/plain": [
       "      Recency  SpentMin  SpentMax  SpentMean  SpentSum    SpentStd  \\\n",
       "1537      133    425.32    425.32    425.320    425.32    0.000000   \n",
       "2158        2    -14.45    351.59    152.775   2749.95  114.827915   \n",
       "1557      114    150.60    150.60    150.600    150.60    0.000000   \n",
       "2447       20    151.37    151.37    151.370    151.37    0.000000   \n",
       "2225       31    183.76    183.76    183.760    183.76    0.000000   \n",
       "\n",
       "      OrderSepMean  OrderSepMax  OrderSepMin  OrderSepStd   ...     \\\n",
       "1537      0.000000            0            0     0.000000   ...      \n",
       "2158      7.388889           27            0     7.701328   ...      \n",
       "1557    241.000000          241          241     0.000000   ...      \n",
       "2447      0.000000            0            0     0.000000   ...      \n",
       "2225      0.000000            0            0     0.000000   ...      \n",
       "\n",
       "      Weekday_3_Thursday_mean  Weekday_3_Thursday_std  Weekday_4_Friday_sum  \\\n",
       "1537               425.320000                0.000000                  0.00   \n",
       "2158                20.634444               65.303121               1132.21   \n",
       "1557                 0.000000                0.000000                150.60   \n",
       "2447                 0.000000                0.000000                151.37   \n",
       "2225               183.760000                0.000000                  0.00   \n",
       "\n",
       "      Weekday_4_Friday_mean  Weekday_4_Friday_std  Weekday_6_Sunday_sum  \\\n",
       "1537               0.000000              0.000000                  0.00   \n",
       "2158              62.900556            108.983665                172.96   \n",
       "1557             150.600000              0.000000                  0.00   \n",
       "2447             151.370000              0.000000                  0.00   \n",
       "2225               0.000000              0.000000                  0.00   \n",
       "\n",
       "      Weekday_6_Sunday_mean  Weekday_6_Sunday_std  RatioCancel  Weekday  \n",
       "1537               0.000000              0.000000     0.000000        4  \n",
       "2158               9.608889             40.767063    -0.014909        4  \n",
       "1557               0.000000              0.000000     0.000000        0  \n",
       "2447               0.000000              0.000000     0.000000        4  \n",
       "2225               0.000000              0.000000     0.000000        0  \n",
       "\n",
       "[5 rows x 104 columns]"
      ]
     },
     "execution_count": 11,
     "metadata": {},
     "output_type": "execute_result"
    }
   ],
   "source": [
    "#Sets creation\n",
    "Xtest = testingset[variables]\n",
    "ytest = testingset[target]\n",
    "Xtrain = trainingset[variables]\n",
    "ytrain = trainingset[target]\n",
    "Xtest.head()"
   ]
  },
  {
   "cell_type": "code",
   "execution_count": 12,
   "metadata": {},
   "outputs": [],
   "source": [
    "#Data standardisation\n",
    "std_scale = preprocessing.StandardScaler().fit(Xtrain)\n",
    "X_train_scaled = std_scale.transform(Xtrain)\n",
    "X_test_scaled = std_scale.transform(Xtest)"
   ]
  },
  {
   "cell_type": "code",
   "execution_count": null,
   "metadata": {},
   "outputs": [],
   "source": []
  },
  {
   "cell_type": "code",
   "execution_count": null,
   "metadata": {},
   "outputs": [],
   "source": []
  },
  {
   "cell_type": "code",
   "execution_count": null,
   "metadata": {},
   "outputs": [],
   "source": []
  },
  {
   "cell_type": "code",
   "execution_count": null,
   "metadata": {},
   "outputs": [],
   "source": []
  },
  {
   "cell_type": "code",
   "execution_count": 13,
   "metadata": {},
   "outputs": [
    {
     "name": "stdout",
     "output_type": "stream",
     "text": [
      "Fitting 3 folds for each of 20 candidates, totalling 60 fits\n",
      "[CV] gamma=0.0, max_depth=7, min_child_weight=1 ......................\n",
      "[CV] gamma=0.0, max_depth=7, min_child_weight=1 ......................\n",
      "[CV] gamma=0.0, max_depth=7, min_child_weight=1 ......................\n",
      "[CV]  gamma=0.0, max_depth=7, min_child_weight=1, score=0.9841897233201581, total=   0.3s\n",
      "[CV]  gamma=0.0, max_depth=7, min_child_weight=1, score=0.992, total=   0.2s\n",
      "[CV] gamma=0.0, max_depth=7, min_child_weight=5 ......................\n",
      "[CV] gamma=0.0, max_depth=7, min_child_weight=5 ......................\n",
      "[CV]  gamma=0.0, max_depth=7, min_child_weight=1, score=0.9920948616600791, total=   0.3s\n",
      "[CV] gamma=0.0, max_depth=7, min_child_weight=5 ......................\n",
      "[CV]  gamma=0.0, max_depth=7, min_child_weight=5, score=0.9723320158102767, total=   0.2s\n",
      "[CV] gamma=0.0, max_depth=10, min_child_weight=1 .....................\n",
      "[CV]  gamma=0.0, max_depth=7, min_child_weight=5, score=0.9841897233201581, total=   0.2s\n",
      "[CV] gamma=0.0, max_depth=10, min_child_weight=1 .....................\n",
      "[CV]  gamma=0.0, max_depth=7, min_child_weight=5, score=0.992, total=   0.1s\n",
      "[CV] gamma=0.0, max_depth=10, min_child_weight=1 .....................\n",
      "[CV]  gamma=0.0, max_depth=10, min_child_weight=1, score=0.992, total=   0.2s\n",
      "[CV] gamma=0.0, max_depth=10, min_child_weight=5 .....................\n",
      "[CV]  gamma=0.0, max_depth=10, min_child_weight=1, score=0.9920948616600791, total=   0.2s\n",
      "[CV] gamma=0.0, max_depth=10, min_child_weight=5 .....................\n",
      "[CV]  gamma=0.0, max_depth=10, min_child_weight=1, score=0.9841897233201581, total=   0.2s\n",
      "[CV] gamma=0.0, max_depth=10, min_child_weight=5 .....................\n",
      "[CV]  gamma=0.0, max_depth=10, min_child_weight=5, score=0.9723320158102767, total=   0.2s\n",
      "[CV] gamma=0.1, max_depth=7, min_child_weight=1 ......................\n",
      "[CV]  gamma=0.0, max_depth=10, min_child_weight=5, score=0.9841897233201581, total=   0.2s\n",
      "[CV] gamma=0.1, max_depth=7, min_child_weight=1 ......................\n",
      "[CV]  gamma=0.0, max_depth=10, min_child_weight=5, score=0.992, total=   0.1s\n",
      "[CV] gamma=0.1, max_depth=7, min_child_weight=1 ......................\n",
      "[CV]  gamma=0.1, max_depth=7, min_child_weight=1, score=0.9841897233201581, total=   0.2s\n",
      "[CV] gamma=0.1, max_depth=7, min_child_weight=5 ......................\n"
     ]
    },
    {
     "name": "stderr",
     "output_type": "stream",
     "text": [
      "[Parallel(n_jobs=3)]: Done  12 tasks      | elapsed:    0.8s\n"
     ]
    },
    {
     "name": "stdout",
     "output_type": "stream",
     "text": [
      "[CV]  gamma=0.1, max_depth=7, min_child_weight=1, score=0.992, total=   0.2s\n",
      "[CV] gamma=0.1, max_depth=7, min_child_weight=5 ......................\n",
      "[CV]  gamma=0.1, max_depth=7, min_child_weight=1, score=0.9920948616600791, total=   0.2s\n",
      "[CV] gamma=0.1, max_depth=7, min_child_weight=5 ......................\n",
      "[CV]  gamma=0.1, max_depth=7, min_child_weight=5, score=0.9723320158102767, total=   0.2s\n",
      "[CV] gamma=0.1, max_depth=10, min_child_weight=1 .....................\n",
      "[CV]  gamma=0.1, max_depth=7, min_child_weight=5, score=0.9841897233201581, total=   0.2s\n",
      "[CV]  gamma=0.1, max_depth=7, min_child_weight=5, score=0.992, total=   0.2s\n",
      "[CV] gamma=0.1, max_depth=10, min_child_weight=1 .....................\n",
      "[CV] gamma=0.1, max_depth=10, min_child_weight=1 .....................\n",
      "[CV]  gamma=0.1, max_depth=10, min_child_weight=1, score=0.9841897233201581, total=   0.2s\n",
      "[CV]  gamma=0.1, max_depth=10, min_child_weight=1, score=0.992, total=   0.2s\n",
      "[CV] gamma=0.1, max_depth=10, min_child_weight=5 .....................\n",
      "[CV] gamma=0.1, max_depth=10, min_child_weight=5 .....................\n",
      "[CV]  gamma=0.1, max_depth=10, min_child_weight=1, score=0.9920948616600791, total=   0.2s\n",
      "[CV] gamma=0.1, max_depth=10, min_child_weight=5 .....................\n",
      "[CV]  gamma=0.1, max_depth=10, min_child_weight=5, score=0.9841897233201581, total=   0.2s\n",
      "[CV] gamma=0.2, max_depth=7, min_child_weight=1 ......................\n",
      "[CV]  gamma=0.1, max_depth=10, min_child_weight=5, score=0.9723320158102767, total=   0.2s\n",
      "[CV] gamma=0.2, max_depth=7, min_child_weight=1 ......................\n",
      "[CV]  gamma=0.1, max_depth=10, min_child_weight=5, score=0.992, total=   0.2s\n",
      "[CV] gamma=0.2, max_depth=7, min_child_weight=1 ......................\n",
      "[CV]  gamma=0.2, max_depth=7, min_child_weight=1, score=0.9841897233201581, total=   0.2s\n",
      "[CV] gamma=0.2, max_depth=7, min_child_weight=5 ......................\n",
      "[CV]  gamma=0.2, max_depth=7, min_child_weight=1, score=0.9920948616600791, total=   0.2s\n",
      "[CV] gamma=0.2, max_depth=7, min_child_weight=5 ......................\n",
      "[CV]  gamma=0.2, max_depth=7, min_child_weight=1, score=0.992, total=   0.2s\n",
      "[CV] gamma=0.2, max_depth=7, min_child_weight=5 ......................\n",
      "[CV]  gamma=0.2, max_depth=7, min_child_weight=5, score=0.9723320158102767, total=   0.2s\n",
      "[CV]  gamma=0.2, max_depth=7, min_child_weight=5, score=0.9841897233201581, total=   0.2s\n",
      "[CV] gamma=0.2, max_depth=10, min_child_weight=1 .....................\n",
      "[CV]  gamma=0.2, max_depth=7, min_child_weight=5, score=0.992, total=   0.2s\n",
      "[CV] gamma=0.2, max_depth=10, min_child_weight=1 .....................\n",
      "[CV] gamma=0.2, max_depth=10, min_child_weight=1 .....................\n",
      "[CV]  gamma=0.2, max_depth=10, min_child_weight=1, score=0.9841897233201581, total=   0.2s\n",
      "[CV]  gamma=0.2, max_depth=10, min_child_weight=1, score=0.992, total=   0.2s\n",
      "[CV] gamma=0.2, max_depth=10, min_child_weight=5 .....................\n",
      "[CV] gamma=0.2, max_depth=10, min_child_weight=5 .....................\n",
      "[CV]  gamma=0.2, max_depth=10, min_child_weight=1, score=0.9920948616600791, total=   0.2s\n",
      "[CV] gamma=0.2, max_depth=10, min_child_weight=5 .....................\n",
      "[CV]  gamma=0.2, max_depth=10, min_child_weight=5, score=0.9841897233201581, total=   0.2s\n",
      "[CV] gamma=0.3, max_depth=7, min_child_weight=1 ......................\n",
      "[CV]  gamma=0.2, max_depth=10, min_child_weight=5, score=0.9723320158102767, total=   0.2s\n",
      "[CV]  gamma=0.2, max_depth=10, min_child_weight=5, score=0.992, total=   0.2s\n",
      "[CV] gamma=0.3, max_depth=7, min_child_weight=1 ......................\n",
      "[CV] gamma=0.3, max_depth=7, min_child_weight=1 ......................\n",
      "[CV]  gamma=0.3, max_depth=7, min_child_weight=1, score=0.9841897233201581, total=   0.2s\n",
      "[CV] gamma=0.3, max_depth=7, min_child_weight=5 ......................\n",
      "[CV]  gamma=0.3, max_depth=7, min_child_weight=1, score=0.992, total=   0.2s\n",
      "[CV] gamma=0.3, max_depth=7, min_child_weight=5 ......................\n",
      "[CV]  gamma=0.3, max_depth=7, min_child_weight=1, score=0.9920948616600791, total=   0.2s\n",
      "[CV] gamma=0.3, max_depth=7, min_child_weight=5 ......................\n",
      "[CV]  gamma=0.3, max_depth=7, min_child_weight=5, score=0.9841897233201581, total=   0.1s\n",
      "[CV]  gamma=0.3, max_depth=7, min_child_weight=5, score=0.9723320158102767, total=   0.2s\n",
      "[CV] gamma=0.3, max_depth=10, min_child_weight=1 .....................\n",
      "[CV] gamma=0.3, max_depth=10, min_child_weight=1 .....................\n",
      "[CV]  gamma=0.3, max_depth=7, min_child_weight=5, score=0.992, total=   0.2s\n",
      "[CV] gamma=0.3, max_depth=10, min_child_weight=1 .....................\n",
      "[CV]  gamma=0.3, max_depth=10, min_child_weight=1, score=0.9841897233201581, total=   0.2s\n",
      "[CV] gamma=0.3, max_depth=10, min_child_weight=5 .....................\n",
      "[CV]  gamma=0.3, max_depth=10, min_child_weight=1, score=0.9920948616600791, total=   0.2s\n",
      "[CV] gamma=0.3, max_depth=10, min_child_weight=5 .....................\n",
      "[CV]  gamma=0.3, max_depth=10, min_child_weight=1, score=0.992, total=   0.2s\n",
      "[CV] gamma=0.3, max_depth=10, min_child_weight=5 .....................\n",
      "[CV]  gamma=0.3, max_depth=10, min_child_weight=5, score=0.9841897233201581, total=   0.2s\n",
      "[CV]  gamma=0.3, max_depth=10, min_child_weight=5, score=0.9723320158102767, total=   0.2s\n",
      "[CV] gamma=0.4, max_depth=7, min_child_weight=1 ......................\n",
      "[CV] gamma=0.4, max_depth=7, min_child_weight=1 ......................\n",
      "[CV]  gamma=0.3, max_depth=10, min_child_weight=5, score=0.992, total=   0.2s\n",
      "[CV] gamma=0.4, max_depth=7, min_child_weight=1 ......................\n",
      "[CV]  gamma=0.4, max_depth=7, min_child_weight=1, score=0.9841897233201581, total=   0.2s\n",
      "[CV] gamma=0.4, max_depth=7, min_child_weight=5 ......................\n",
      "[CV]  gamma=0.4, max_depth=7, min_child_weight=1, score=0.992, total=   0.2s\n",
      "[CV] gamma=0.4, max_depth=7, min_child_weight=5 ......................\n",
      "[CV]  gamma=0.4, max_depth=7, min_child_weight=1, score=0.9841897233201581, total=   0.3s\n",
      "[CV] gamma=0.4, max_depth=7, min_child_weight=5 ......................\n",
      "[CV]  gamma=0.4, max_depth=7, min_child_weight=5, score=0.9723320158102767, total=   0.2s\n",
      "[CV] gamma=0.4, max_depth=10, min_child_weight=1 .....................\n",
      "[CV]  gamma=0.4, max_depth=7, min_child_weight=5, score=0.992, total=   0.1s\n",
      "[CV] gamma=0.4, max_depth=10, min_child_weight=1 .....................\n",
      "[CV]  gamma=0.4, max_depth=7, min_child_weight=5, score=0.9841897233201581, total=   0.2s\n",
      "[CV] gamma=0.4, max_depth=10, min_child_weight=1 .....................\n",
      "[CV]  gamma=0.4, max_depth=10, min_child_weight=1, score=0.9841897233201581, total=   0.2s\n",
      "[CV] gamma=0.4, max_depth=10, min_child_weight=5 .....................\n",
      "[CV]  gamma=0.4, max_depth=10, min_child_weight=1, score=0.9841897233201581, total=   0.2s\n",
      "[CV]  gamma=0.4, max_depth=10, min_child_weight=1, score=0.992, total=   0.2s\n",
      "[CV] gamma=0.4, max_depth=10, min_child_weight=5 .....................\n",
      "[CV] gamma=0.4, max_depth=10, min_child_weight=5 .....................\n",
      "[CV]  gamma=0.4, max_depth=10, min_child_weight=5, score=0.9723320158102767, total=   0.2s\n",
      "[CV]  gamma=0.4, max_depth=10, min_child_weight=5, score=0.992, total=   0.2s\n",
      "[CV]  gamma=0.4, max_depth=10, min_child_weight=5, score=0.9841897233201581, total=   0.2s\n"
     ]
    },
    {
     "name": "stderr",
     "output_type": "stream",
     "text": [
      "[Parallel(n_jobs=3)]: Done  60 out of  60 | elapsed:    4.1s finished\n"
     ]
    },
    {
     "data": {
      "text/plain": [
       "GridSearchCV(cv=StratifiedKFold(n_splits=3, random_state=None, shuffle=False),\n",
       "       error_score='raise',\n",
       "       estimator=XGBClassifier(base_score=0.5, booster='gbtree', colsample_bylevel=1,\n",
       "       colsample_bytree=1, gamma=0, learning_rate=0.1, max_delta_step=0,\n",
       "       max_depth=3, min_child_weight=1, missing=None, n_estimators=10,\n",
       "       n_jobs=1, nthread=None, objective='multi:softmax', random_state=0,\n",
       "       reg_alpha=0, reg_lambda=1, scale_pos_weight=1, seed=None,\n",
       "       silent=True, subsample=1, tree_method='hist'),\n",
       "       fit_params=None, iid=True, n_jobs=3,\n",
       "       param_grid={'max_depth': [7, 10], 'min_child_weight': [1, 5], 'gamma': [0.0, 0.1, 0.2, 0.3, 0.4]},\n",
       "       pre_dispatch='2*n_jobs', refit=True, return_train_score='warn',\n",
       "       scoring=make_scorer(f1_score, average=micro), verbose=5)"
      ]
     },
     "execution_count": 13,
     "metadata": {},
     "output_type": "execute_result"
    }
   ],
   "source": [
    "#Gridsearch creation - XGBoostingClassifier\n",
    "\n",
    "parameters = {'max_depth': [7,10], 'min_child_weight': [1,5], 'gamma': [i/10.0 for i in range(0,5)]}\n",
    "scorer = make_scorer(f1_score, average = 'micro')\n",
    "ind_params = {'learning_rate': 0.1, 'n_estimators': 10, 'objective': 'multi:softmax', 'tree_method':'hist'}\n",
    "skf = StratifiedKFold(n_splits=3)\n",
    "#xgbc = xgb.XGBClassifier(**ind_params)\n",
    "xgbcclf = GridSearchCV(xgb.XGBClassifier(**ind_params), parameters, scoring = scorer, n_jobs = 3, cv = skf, verbose = 5)\n",
    "xgbcclf.fit(X_train_scaled, ytrain['M'])"
   ]
  },
  {
   "cell_type": "code",
   "execution_count": 14,
   "metadata": {},
   "outputs": [
    {
     "data": {
      "text/plain": [
       "1.0"
      ]
     },
     "execution_count": 14,
     "metadata": {},
     "output_type": "execute_result"
    }
   ],
   "source": [
    "xgbcclf.score(X_test_scaled, ytest['M'])"
   ]
  },
  {
   "cell_type": "code",
   "execution_count": 15,
   "metadata": {},
   "outputs": [
    {
     "data": {
      "text/plain": [
       "{'gamma': 0.0, 'max_depth': 7, 'min_child_weight': 1}"
      ]
     },
     "execution_count": 15,
     "metadata": {},
     "output_type": "execute_result"
    }
   ],
   "source": [
    "xgbcclf.best_params_"
   ]
  },
  {
   "cell_type": "code",
   "execution_count": 18,
   "metadata": {},
   "outputs": [],
   "source": [
    "#Parameter to train for definition\n",
    "parametertoclass = 'R'\n",
    "scorer = make_scorer(f1_score, average = 'micro')\n",
    "skf = StratifiedKFold(n_splits=3)\n",
    "ind_params ={ 'n_estimators':30, 'learning_rate':0.1, 'nthread':3, 'objective': 'multi:softmax'}"
   ]
  },
  {
   "cell_type": "code",
   "execution_count": 19,
   "metadata": {},
   "outputs": [
    {
     "name": "stdout",
     "output_type": "stream",
     "text": [
      "Fitting 3 folds for each of 9 candidates, totalling 27 fits\n",
      "[CV] max_depth=8, min_child_weight=1 .................................\n",
      "[CV] max_depth=8, min_child_weight=1 .................................\n",
      "[CV] max_depth=8, min_child_weight=1 .................................\n",
      "[CV] ...... max_depth=8, min_child_weight=1, score=0.98, total=   0.5s\n",
      "[CV] max_depth=8, min_child_weight=3 .................................\n",
      "[CV]  max_depth=8, min_child_weight=1, score=0.9880952380952381, total=   0.5s\n",
      "[CV] max_depth=8, min_child_weight=3 .................................\n",
      "[CV]  max_depth=8, min_child_weight=1, score=0.9881889763779528, total=   0.6s\n",
      "[CV] max_depth=8, min_child_weight=3 .................................\n",
      "[CV]  max_depth=8, min_child_weight=3, score=0.9920634920634921, total=   0.5s\n",
      "[CV]  max_depth=8, min_child_weight=3, score=0.9921259842519685, total=   0.5s\n",
      "[CV] ..... max_depth=8, min_child_weight=3, score=0.976, total=   0.5s\n",
      "[CV] max_depth=8, min_child_weight=5 .................................\n",
      "[CV] max_depth=8, min_child_weight=5 .................................\n",
      "[CV] max_depth=8, min_child_weight=5 .................................\n",
      "[CV]  max_depth=8, min_child_weight=5, score=0.9803149606299214, total=   0.5s\n",
      "[CV] max_depth=10, min_child_weight=1 ................................\n",
      "[CV] ...... max_depth=8, min_child_weight=5, score=0.96, total=   0.5s\n",
      "[CV]  max_depth=8, min_child_weight=5, score=0.9841269841269841, total=   0.5s\n",
      "[CV] max_depth=10, min_child_weight=1 ................................\n",
      "[CV] max_depth=10, min_child_weight=1 ................................\n",
      "[CV]  max_depth=10, min_child_weight=1, score=0.9881889763779528, total=   0.5s\n",
      "[CV] max_depth=10, min_child_weight=3 ................................\n",
      "[CV] ..... max_depth=10, min_child_weight=1, score=0.98, total=   0.5s\n",
      "[CV] max_depth=10, min_child_weight=3 ................................\n",
      "[CV]  max_depth=10, min_child_weight=1, score=0.9880952380952381, total=   0.6s\n",
      "[CV] max_depth=10, min_child_weight=3 ................................\n"
     ]
    },
    {
     "name": "stderr",
     "output_type": "stream",
     "text": [
      "[Parallel(n_jobs=3)]: Done  12 tasks      | elapsed:    2.1s\n"
     ]
    },
    {
     "name": "stdout",
     "output_type": "stream",
     "text": [
      "[CV] .... max_depth=10, min_child_weight=3, score=0.976, total=   0.5s\n",
      "[CV] max_depth=10, min_child_weight=5 ................................\n",
      "[CV]  max_depth=10, min_child_weight=3, score=0.9921259842519685, total=   0.5s\n",
      "[CV] max_depth=10, min_child_weight=5 ................................\n",
      "[CV]  max_depth=10, min_child_weight=3, score=0.9920634920634921, total=   0.5s\n",
      "[CV] max_depth=10, min_child_weight=5 ................................\n",
      "[CV]  max_depth=10, min_child_weight=5, score=0.9803149606299214, total=   0.5s\n",
      "[CV] max_depth=12, min_child_weight=1 ................................\n",
      "[CV] ..... max_depth=10, min_child_weight=5, score=0.96, total=   0.5s\n",
      "[CV] max_depth=12, min_child_weight=1 ................................\n",
      "[CV]  max_depth=10, min_child_weight=5, score=0.9841269841269841, total=   0.5s\n",
      "[CV] max_depth=12, min_child_weight=1 ................................\n",
      "[CV]  max_depth=12, min_child_weight=1, score=0.9881889763779528, total=   0.5s\n",
      "[CV] max_depth=12, min_child_weight=3 ................................\n",
      "[CV] ..... max_depth=12, min_child_weight=1, score=0.98, total=   0.5s\n",
      "[CV] max_depth=12, min_child_weight=3 ................................\n",
      "[CV]  max_depth=12, min_child_weight=1, score=0.9880952380952381, total=   0.6s\n",
      "[CV] max_depth=12, min_child_weight=3 ................................\n",
      "[CV]  max_depth=12, min_child_weight=3, score=0.9921259842519685, total=   0.5s\n",
      "[CV] max_depth=12, min_child_weight=5 ................................\n",
      "[CV]  max_depth=12, min_child_weight=3, score=0.9920634920634921, total=   0.5s\n",
      "[CV] max_depth=12, min_child_weight=5 ................................\n",
      "[CV] .... max_depth=12, min_child_weight=3, score=0.976, total=   0.5s\n",
      "[CV] max_depth=12, min_child_weight=5 ................................\n",
      "[CV]  max_depth=12, min_child_weight=5, score=0.9841269841269841, total=   0.5s\n",
      "[CV] ..... max_depth=12, min_child_weight=5, score=0.96, total=   0.5s\n",
      "[CV]  max_depth=12, min_child_weight=5, score=0.9803149606299214, total=   0.5s\n"
     ]
    },
    {
     "name": "stderr",
     "output_type": "stream",
     "text": [
      "[Parallel(n_jobs=3)]: Done  27 out of  27 | elapsed:    4.7s finished\n"
     ]
    },
    {
     "data": {
      "text/plain": [
       "0.98770491803278693"
      ]
     },
     "execution_count": 19,
     "metadata": {},
     "output_type": "execute_result"
    }
   ],
   "source": [
    "#Gridsearch creation - XGBoostingClassifier - Step 1\n",
    "step1 = {**ind_params}\n",
    "parameters = {'max_depth': range(8,13,2), 'min_child_weight':range(1,6,2) }\n",
    "xgbc1 = xgb.XGBClassifier(**step1)\n",
    "xgbcclf1 = GridSearchCV(xgbc1, parameters, scoring = scorer, n_jobs = 3, cv = skf, verbose = 5, return_train_score=True)\n",
    "xgbcclf1.fit(X_train_scaled, ytrain[parametertoclass])\n",
    "xgbcclf1.score(X_test_scaled, ytest[parametertoclass])"
   ]
  },
  {
   "cell_type": "code",
   "execution_count": 20,
   "metadata": {},
   "outputs": [
    {
     "data": {
      "text/plain": [
       "{'max_depth': 8, 'min_child_weight': 3}"
      ]
     },
     "execution_count": 20,
     "metadata": {},
     "output_type": "execute_result"
    }
   ],
   "source": [
    "#xgbcclf1.cv_results_\n",
    "#xgbcclf1.grid_scores_\n",
    "xgbcclf1.best_params_"
   ]
  },
  {
   "cell_type": "code",
   "execution_count": 21,
   "metadata": {},
   "outputs": [
    {
     "name": "stdout",
     "output_type": "stream",
     "text": [
      "Fitting 3 folds for each of 3 candidates, totalling 9 fits\n",
      "[CV] gamma=0.0 .......................................................\n",
      "[CV] gamma=0.0 .......................................................\n",
      "[CV] gamma=0.0 .......................................................\n",
      "[CV] ........................... gamma=0.0, score=0.976, total=   0.5s\n",
      "[CV] gamma=0.1 .......................................................\n",
      "[CV] .............. gamma=0.0, score=0.9920634920634921, total=   0.6s\n",
      "[CV] gamma=0.1 .......................................................\n",
      "[CV] .............. gamma=0.0, score=0.9921259842519685, total=   0.6s\n",
      "[CV] gamma=0.1 .......................................................\n",
      "[CV] .............. gamma=0.1, score=0.9921259842519685, total=   0.5s\n",
      "[CV] gamma=0.2 .......................................................\n",
      "[CV] ........................... gamma=0.1, score=0.976, total=   0.5s\n",
      "[CV] gamma=0.2 .......................................................\n",
      "[CV] .............. gamma=0.1, score=0.9920634920634921, total=   0.5s\n",
      "[CV] gamma=0.2 .......................................................\n"
     ]
    },
    {
     "name": "stderr",
     "output_type": "stream",
     "text": [
      "[Parallel(n_jobs=3)]: Done   6 out of   9 | elapsed:    1.1s remaining:    0.6s\n"
     ]
    },
    {
     "name": "stdout",
     "output_type": "stream",
     "text": [
      "[CV] .............. gamma=0.2, score=0.9921259842519685, total=   0.5s\n",
      "[CV] ........................... gamma=0.2, score=0.976, total=   0.5s\n",
      "[CV] .............. gamma=0.2, score=0.9920634920634921, total=   0.5s\n"
     ]
    },
    {
     "name": "stderr",
     "output_type": "stream",
     "text": [
      "[Parallel(n_jobs=3)]: Done   9 out of   9 | elapsed:    1.6s finished\n"
     ]
    },
    {
     "data": {
      "text/plain": [
       "0.98770491803278693"
      ]
     },
     "execution_count": 21,
     "metadata": {},
     "output_type": "execute_result"
    }
   ],
   "source": [
    "#Gridsearch creation - XGBoostingClassifier - Step 2\n",
    "step2 = {**xgbcclf1.best_params_, **step1}\n",
    "parameters = {'gamma':[i/10.0 for i in range(0,3)]}\n",
    "xgbc2 = xgb.XGBClassifier(**step2)\n",
    "xgbcclf2 = GridSearchCV(xgbc2, parameters, scoring = scorer, n_jobs = 3, cv = skf, verbose = 5, return_train_score=True)\n",
    "xgbcclf2.fit(X_train_scaled, ytrain[parametertoclass])\n",
    "xgbcclf2.score(X_test_scaled, ytest[parametertoclass])"
   ]
  },
  {
   "cell_type": "code",
   "execution_count": 22,
   "metadata": {},
   "outputs": [
    {
     "data": {
      "text/plain": [
       "{'gamma': 0.0}"
      ]
     },
     "execution_count": 22,
     "metadata": {},
     "output_type": "execute_result"
    }
   ],
   "source": [
    "xgbcclf2.best_params_"
   ]
  },
  {
   "cell_type": "code",
   "execution_count": 23,
   "metadata": {},
   "outputs": [
    {
     "name": "stdout",
     "output_type": "stream",
     "text": [
      "Fitting 3 folds for each of 16 candidates, totalling 48 fits\n",
      "[CV] colsample_bytree=0.6, subsample=0.6 .............................\n",
      "[CV] colsample_bytree=0.6, subsample=0.6 .............................\n",
      "[CV] colsample_bytree=0.6, subsample=0.6 .............................\n",
      "[CV] . colsample_bytree=0.6, subsample=0.6, score=0.968, total=   0.4s\n",
      "[CV]  colsample_bytree=0.6, subsample=0.6, score=0.984251968503937, total=   0.4s\n",
      "[CV] colsample_bytree=0.6, subsample=0.7 .............................\n",
      "[CV] colsample_bytree=0.6, subsample=0.7 .............................\n",
      "[CV]  colsample_bytree=0.6, subsample=0.6, score=0.9920634920634921, total=   0.4s\n",
      "[CV] colsample_bytree=0.6, subsample=0.7 .............................\n",
      "[CV]  colsample_bytree=0.6, subsample=0.7, score=0.9763779527559056, total=   0.4s\n",
      "[CV] colsample_bytree=0.6, subsample=0.8 .............................\n",
      "[CV] . colsample_bytree=0.6, subsample=0.7, score=0.976, total=   0.4s\n",
      "[CV] colsample_bytree=0.6, subsample=0.8 .............................\n",
      "[CV]  colsample_bytree=0.6, subsample=0.7, score=0.9920634920634921, total=   0.4s\n",
      "[CV] colsample_bytree=0.6, subsample=0.8 .............................\n",
      "[CV]  colsample_bytree=0.6, subsample=0.8, score=0.984251968503937, total=   0.5s\n",
      "[CV] colsample_bytree=0.6, subsample=0.9 .............................\n",
      "[CV] . colsample_bytree=0.6, subsample=0.8, score=0.968, total=   0.5s\n",
      "[CV] colsample_bytree=0.6, subsample=0.9 .............................\n",
      "[CV]  colsample_bytree=0.6, subsample=0.8, score=0.9920634920634921, total=   0.5s\n",
      "[CV] colsample_bytree=0.6, subsample=0.9 .............................\n",
      "[CV]  colsample_bytree=0.6, subsample=0.9, score=0.9803149606299214, total=   0.5s\n",
      "[CV] colsample_bytree=0.7, subsample=0.6 .............................\n",
      "[CV] . colsample_bytree=0.6, subsample=0.9, score=0.972, total=   0.5s\n",
      "[CV] colsample_bytree=0.7, subsample=0.6 .............................\n",
      "[CV]  colsample_bytree=0.6, subsample=0.9, score=0.9920634920634921, total=   0.5s\n",
      "[CV] colsample_bytree=0.7, subsample=0.6 .............................\n"
     ]
    },
    {
     "name": "stderr",
     "output_type": "stream",
     "text": [
      "[Parallel(n_jobs=3)]: Done  12 tasks      | elapsed:    1.9s\n"
     ]
    },
    {
     "name": "stdout",
     "output_type": "stream",
     "text": [
      "[CV]  colsample_bytree=0.7, subsample=0.6, score=0.9803149606299214, total=   0.4s\n",
      "[CV] colsample_bytree=0.7, subsample=0.7 .............................\n",
      "[CV] . colsample_bytree=0.7, subsample=0.6, score=0.972, total=   0.4s\n",
      "[CV]  colsample_bytree=0.7, subsample=0.6, score=0.9920634920634921, total=   0.4s\n",
      "[CV] colsample_bytree=0.7, subsample=0.7 .............................\n",
      "[CV] colsample_bytree=0.7, subsample=0.7 .............................\n",
      "[CV]  colsample_bytree=0.7, subsample=0.7, score=0.9763779527559056, total=   0.5s\n",
      "[CV] colsample_bytree=0.7, subsample=0.8 .............................\n",
      "[CV]  colsample_bytree=0.7, subsample=0.7, score=0.9920634920634921, total=   0.5s\n",
      "[CV] colsample_bytree=0.7, subsample=0.8 .............................\n",
      "[CV] . colsample_bytree=0.7, subsample=0.7, score=0.968, total=   0.5s\n",
      "[CV] colsample_bytree=0.7, subsample=0.8 .............................\n",
      "[CV]  colsample_bytree=0.7, subsample=0.8, score=0.9763779527559056, total=   0.4s\n",
      "[CV] colsample_bytree=0.7, subsample=0.9 .............................\n",
      "[CV] . colsample_bytree=0.7, subsample=0.8, score=0.968, total=   0.5s\n",
      "[CV]  colsample_bytree=0.7, subsample=0.8, score=0.9920634920634921, total=   0.5s\n",
      "[CV] colsample_bytree=0.7, subsample=0.9 .............................\n",
      "[CV] colsample_bytree=0.7, subsample=0.9 .............................\n",
      "[CV]  colsample_bytree=0.7, subsample=0.9, score=0.9803149606299214, total=   0.5s\n",
      "[CV] colsample_bytree=0.8, subsample=0.6 .............................\n",
      "[CV] . colsample_bytree=0.7, subsample=0.9, score=0.976, total=   0.5s\n",
      "[CV] colsample_bytree=0.8, subsample=0.6 .............................\n",
      "[CV]  colsample_bytree=0.7, subsample=0.9, score=0.9920634920634921, total=   0.5s\n",
      "[CV] colsample_bytree=0.8, subsample=0.6 .............................\n",
      "[CV]  colsample_bytree=0.8, subsample=0.6, score=0.984251968503937, total=   0.4s\n",
      "[CV] colsample_bytree=0.8, subsample=0.7 .............................\n",
      "[CV]  colsample_bytree=0.8, subsample=0.6, score=0.9920634920634921, total=   0.4s\n",
      "[CV] colsample_bytree=0.8, subsample=0.7 .............................\n",
      "[CV] . colsample_bytree=0.8, subsample=0.6, score=0.968, total=   0.4s\n",
      "[CV] colsample_bytree=0.8, subsample=0.7 .............................\n",
      "[CV]  colsample_bytree=0.8, subsample=0.7, score=0.9763779527559056, total=   0.5s\n",
      "[CV] colsample_bytree=0.8, subsample=0.8 .............................\n",
      "[CV]  colsample_bytree=0.8, subsample=0.7, score=0.9920634920634921, total=   0.5s\n",
      "[CV] colsample_bytree=0.8, subsample=0.8 .............................\n",
      "[CV] . colsample_bytree=0.8, subsample=0.7, score=0.968, total=   0.5s\n",
      "[CV] colsample_bytree=0.8, subsample=0.8 .............................\n",
      "[CV]  colsample_bytree=0.8, subsample=0.8, score=0.9803149606299214, total=   0.5s\n",
      "[CV] colsample_bytree=0.8, subsample=0.9 .............................\n",
      "[CV]  colsample_bytree=0.8, subsample=0.8, score=0.9920634920634921, total=   0.5s\n",
      "[CV] colsample_bytree=0.8, subsample=0.9 .............................\n",
      "[CV] . colsample_bytree=0.8, subsample=0.8, score=0.968, total=   0.5s\n",
      "[CV] colsample_bytree=0.8, subsample=0.9 .............................\n",
      "[CV]  colsample_bytree=0.8, subsample=0.9, score=0.9881889763779528, total=   0.5s\n",
      "[CV] colsample_bytree=0.9, subsample=0.6 .............................\n",
      "[CV]  colsample_bytree=0.8, subsample=0.9, score=0.9920634920634921, total=   0.5s\n",
      "[CV] colsample_bytree=0.9, subsample=0.6 .............................\n",
      "[CV] .. colsample_bytree=0.8, subsample=0.9, score=0.98, total=   0.5s\n",
      "[CV] colsample_bytree=0.9, subsample=0.6 .............................\n",
      "[CV]  colsample_bytree=0.9, subsample=0.6, score=0.984251968503937, total=   0.4s\n",
      "[CV] colsample_bytree=0.9, subsample=0.7 .............................\n",
      "[CV]  colsample_bytree=0.9, subsample=0.6, score=0.9920634920634921, total=   0.4s\n",
      "[CV] colsample_bytree=0.9, subsample=0.7 .............................\n",
      "[CV] . colsample_bytree=0.9, subsample=0.6, score=0.968, total=   0.4s\n",
      "[CV] colsample_bytree=0.9, subsample=0.7 .............................\n",
      "[CV]  colsample_bytree=0.9, subsample=0.7, score=0.9803149606299214, total=   0.5s\n",
      "[CV] colsample_bytree=0.9, subsample=0.8 .............................\n",
      "[CV]  colsample_bytree=0.9, subsample=0.7, score=0.9920634920634921, total=   0.5s\n",
      "[CV] colsample_bytree=0.9, subsample=0.8 .............................\n",
      "[CV] . colsample_bytree=0.9, subsample=0.7, score=0.968, total=   0.5s\n",
      "[CV] colsample_bytree=0.9, subsample=0.8 .............................\n",
      "[CV]  colsample_bytree=0.9, subsample=0.8, score=0.9803149606299214, total=   0.4s\n",
      "[CV] colsample_bytree=0.9, subsample=0.9 .............................\n",
      "[CV]  colsample_bytree=0.9, subsample=0.8, score=0.9920634920634921, total=   0.4s\n",
      "[CV] colsample_bytree=0.9, subsample=0.9 .............................\n",
      "[CV] . colsample_bytree=0.9, subsample=0.8, score=0.976, total=   0.4s\n",
      "[CV] colsample_bytree=0.9, subsample=0.9 .............................\n",
      "[CV]  colsample_bytree=0.9, subsample=0.9, score=0.9921259842519685, total=   0.5s\n",
      "[CV]  colsample_bytree=0.9, subsample=0.9, score=0.9920634920634921, total=   0.5s\n",
      "[CV] .. colsample_bytree=0.9, subsample=0.9, score=0.98, total=   0.5s\n"
     ]
    },
    {
     "name": "stderr",
     "output_type": "stream",
     "text": [
      "[Parallel(n_jobs=3)]: Done  48 out of  48 | elapsed:    7.6s finished\n"
     ]
    },
    {
     "data": {
      "text/plain": [
       "0.98770491803278693"
      ]
     },
     "execution_count": 23,
     "metadata": {},
     "output_type": "execute_result"
    }
   ],
   "source": [
    "#Gridsearch creation - XGBoostingClassifier - Step 3\n",
    "step3 = {**xgbcclf2.best_params_, **step2}\n",
    "\n",
    "parameters = {'subsample':[i/10.0 for i in range(6,10)], 'colsample_bytree':[i/10.0 for i in range(6,10)]}\n",
    "xgbc3 = xgb.XGBClassifier(**step3)\n",
    "xgbcclf3 = GridSearchCV(xgbc3, parameters, scoring = scorer, n_jobs = 3, cv = skf, verbose = 5, return_train_score=True)\n",
    "xgbcclf3.fit(X_train_scaled, ytrain[parametertoclass])\n",
    "xgbcclf3.score(X_test_scaled, ytest[parametertoclass])"
   ]
  },
  {
   "cell_type": "code",
   "execution_count": 24,
   "metadata": {},
   "outputs": [
    {
     "data": {
      "text/plain": [
       "{'colsample_bytree': 0.9, 'subsample': 0.9}"
      ]
     },
     "execution_count": 24,
     "metadata": {},
     "output_type": "execute_result"
    }
   ],
   "source": [
    "xgbcclf3.best_params_"
   ]
  },
  {
   "cell_type": "code",
   "execution_count": 25,
   "metadata": {},
   "outputs": [
    {
     "name": "stdout",
     "output_type": "stream",
     "text": [
      "Fitting 3 folds for each of 3 candidates, totalling 9 fits\n",
      "[CV] learning_rate=0.01 ..............................................\n",
      "[CV] learning_rate=0.01 ..............................................\n",
      "[CV] learning_rate=0.01 ..............................................\n",
      "[CV] .................. learning_rate=0.01, score=0.968, total=   0.5s\n",
      "[CV] ..... learning_rate=0.01, score=0.9763779527559056, total=   0.5s\n",
      "[CV] learning_rate=0.05 ..............................................\n",
      "[CV] learning_rate=0.05 ..............................................\n",
      "[CV] ..... learning_rate=0.01, score=0.9920634920634921, total=   0.5s\n",
      "[CV] learning_rate=0.05 ..............................................\n",
      "[CV] ..... learning_rate=0.05, score=0.9881889763779528, total=   0.5s\n",
      "[CV] learning_rate=0.1 ...............................................\n",
      "[CV] ..... learning_rate=0.05, score=0.9920634920634921, total=   0.5s\n",
      "[CV] learning_rate=0.1 ...............................................\n",
      "[CV] .................. learning_rate=0.05, score=0.972, total=   0.5s\n",
      "[CV] learning_rate=0.1 ...............................................\n"
     ]
    },
    {
     "name": "stderr",
     "output_type": "stream",
     "text": [
      "[Parallel(n_jobs=3)]: Done   6 out of   9 | elapsed:    1.0s remaining:    0.5s\n"
     ]
    },
    {
     "name": "stdout",
     "output_type": "stream",
     "text": [
      "[CV] ...... learning_rate=0.1, score=0.9921259842519685, total=   0.5s\n",
      "[CV] .................... learning_rate=0.1, score=0.98, total=   0.5s\n",
      "[CV] ...... learning_rate=0.1, score=0.9920634920634921, total=   0.5s\n"
     ]
    },
    {
     "name": "stderr",
     "output_type": "stream",
     "text": [
      "[Parallel(n_jobs=3)]: Done   9 out of   9 | elapsed:    1.5s finished\n"
     ]
    },
    {
     "data": {
      "text/plain": [
       "0.98770491803278693"
      ]
     },
     "execution_count": 25,
     "metadata": {},
     "output_type": "execute_result"
    }
   ],
   "source": [
    "#Gridsearch creation - XGBoostingClassifier - Step 4\n",
    "step4 = {**xgbcclf3.best_params_, **step3}\n",
    "\n",
    "parameters = {'learning_rate':[0.01, 0.05, 0.1]}\n",
    "xgbc4 = xgb.XGBClassifier(**step4)\n",
    "xgbcclf4 = GridSearchCV(xgbc4, parameters, scoring = scorer, n_jobs = 3, cv = skf, verbose = 5, return_train_score=True)\n",
    "xgbcclf4.fit(X_train_scaled, ytrain[parametertoclass])\n",
    "xgbcclf4.score(X_test_scaled, ytest[parametertoclass])"
   ]
  },
  {
   "cell_type": "code",
   "execution_count": 26,
   "metadata": {},
   "outputs": [
    {
     "data": {
      "text/plain": [
       "{'learning_rate': 0.1}"
      ]
     },
     "execution_count": 26,
     "metadata": {},
     "output_type": "execute_result"
    }
   ],
   "source": [
    "xgbcclf4.best_params_"
   ]
  },
  {
   "cell_type": "code",
   "execution_count": 27,
   "metadata": {},
   "outputs": [
    {
     "data": {
      "text/plain": [
       "0.98770491803278693"
      ]
     },
     "execution_count": 27,
     "metadata": {},
     "output_type": "execute_result"
    }
   ],
   "source": [
    "#Step 5 final calculation\n",
    "step5 = {**xgbcclf4.best_params_, **step4}\n",
    "xgbc5 = xgb.XGBClassifier(**step5)\n",
    "xgbc5.fit(X_train_scaled, ytrain[parametertoclass])\n",
    "xgbc5.score(X_test_scaled, ytest[parametertoclass])"
   ]
  },
  {
   "cell_type": "code",
   "execution_count": null,
   "metadata": {},
   "outputs": [],
   "source": []
  },
  {
   "cell_type": "code",
   "execution_count": 112,
   "metadata": {},
   "outputs": [
    {
     "name": "stdout",
     "output_type": "stream",
     "text": [
      "Fitting 3 folds for each of 9 candidates, totalling 27 fits\n",
      "[CV] max_depth=8, min_child_weight=1 .................................\n",
      "[CV] max_depth=8, min_child_weight=1 .................................\n",
      "[CV] max_depth=8, min_child_weight=1 .................................\n",
      "[CV]  max_depth=8, min_child_weight=1, score=0.9670846394984326, total=   5.4s\n",
      "[CV] max_depth=8, min_child_weight=3 .................................\n",
      "[CV]  max_depth=8, min_child_weight=1, score=0.9818507730226305, total=   5.8s\n",
      "[CV] max_depth=8, min_child_weight=3 .................................\n",
      "[CV]  max_depth=8, min_child_weight=1, score=0.9881298992161254, total=   6.6s\n",
      "[CV] max_depth=8, min_child_weight=3 .................................\n",
      "[CV]  max_depth=8, min_child_weight=3, score=0.9670846394984326, total=   5.7s\n",
      "[CV] max_depth=8, min_child_weight=5 .................................\n",
      "[CV]  max_depth=8, min_child_weight=3, score=0.9818507730226305, total=   5.7s\n",
      "[CV] max_depth=8, min_child_weight=5 .................................\n",
      "[CV]  max_depth=8, min_child_weight=3, score=0.9874580067189249, total=   6.5s\n",
      "[CV] max_depth=8, min_child_weight=5 .................................\n",
      "[CV]  max_depth=8, min_child_weight=5, score=0.9670846394984326, total=   5.5s\n",
      "[CV] max_depth=10, min_child_weight=1 ................................\n",
      "[CV]  max_depth=8, min_child_weight=5, score=0.9818507730226305, total=   5.6s\n",
      "[CV] max_depth=10, min_child_weight=1 ................................\n",
      "[CV]  max_depth=8, min_child_weight=5, score=0.9876819708846585, total=   6.1s\n",
      "[CV] max_depth=10, min_child_weight=1 ................................\n",
      "[CV]  max_depth=10, min_child_weight=1, score=0.9670846394984326, total=   5.5s\n",
      "[CV] max_depth=10, min_child_weight=3 ................................\n",
      "[CV]  max_depth=10, min_child_weight=1, score=0.9818507730226305, total=   5.8s\n",
      "[CV] max_depth=10, min_child_weight=3 ................................\n",
      "[CV]  max_depth=10, min_child_weight=1, score=0.9881298992161254, total=   6.5s\n",
      "[CV] max_depth=10, min_child_weight=3 ................................\n"
     ]
    },
    {
     "name": "stderr",
     "output_type": "stream",
     "text": [
      "[Parallel(n_jobs=3)]: Done  12 tasks      | elapsed:   25.2s\n"
     ]
    },
    {
     "name": "stdout",
     "output_type": "stream",
     "text": [
      "[CV]  max_depth=10, min_child_weight=3, score=0.9670846394984326, total=   5.5s\n",
      "[CV] max_depth=10, min_child_weight=5 ................................\n",
      "[CV]  max_depth=10, min_child_weight=3, score=0.9818507730226305, total=   5.7s\n",
      "[CV] max_depth=10, min_child_weight=5 ................................\n",
      "[CV]  max_depth=10, min_child_weight=3, score=0.9874580067189249, total=   6.3s\n",
      "[CV] max_depth=10, min_child_weight=5 ................................\n",
      "[CV]  max_depth=10, min_child_weight=5, score=0.9670846394984326, total=   5.7s\n",
      "[CV] max_depth=12, min_child_weight=1 ................................\n",
      "[CV]  max_depth=10, min_child_weight=5, score=0.9818507730226305, total=   5.9s\n",
      "[CV] max_depth=12, min_child_weight=1 ................................\n",
      "[CV]  max_depth=10, min_child_weight=5, score=0.9876819708846585, total=   6.6s\n",
      "[CV] max_depth=12, min_child_weight=1 ................................\n",
      "[CV]  max_depth=12, min_child_weight=1, score=0.9670846394984326, total=   5.6s\n",
      "[CV] max_depth=12, min_child_weight=3 ................................\n",
      "[CV]  max_depth=12, min_child_weight=1, score=0.9818507730226305, total=   5.8s\n",
      "[CV] max_depth=12, min_child_weight=3 ................................\n",
      "[CV]  max_depth=12, min_child_weight=1, score=0.9881298992161254, total=   6.5s\n",
      "[CV] max_depth=12, min_child_weight=3 ................................\n",
      "[CV]  max_depth=12, min_child_weight=3, score=0.9670846394984326, total=   5.4s\n",
      "[CV] max_depth=12, min_child_weight=5 ................................\n",
      "[CV]  max_depth=12, min_child_weight=3, score=0.9818507730226305, total=   5.9s\n",
      "[CV]  max_depth=12, min_child_weight=3, score=0.9874580067189249, total=   6.6s\n",
      "[CV] max_depth=12, min_child_weight=5 ................................\n",
      "[CV] max_depth=12, min_child_weight=5 ................................\n",
      "[CV]  max_depth=12, min_child_weight=5, score=0.9670846394984326, total=   5.8s\n",
      "[CV]  max_depth=12, min_child_weight=5, score=0.9818507730226305, total=   5.3s\n",
      "[CV]  max_depth=12, min_child_weight=5, score=0.9876819708846585, total=   5.8s\n"
     ]
    },
    {
     "name": "stderr",
     "output_type": "stream",
     "text": [
      "[Parallel(n_jobs=3)]: Done  27 out of  27 | elapsed:   56.0s finished\n"
     ]
    },
    {
     "name": "stdout",
     "output_type": "stream",
     "text": [
      "Fitting 3 folds for each of 3 candidates, totalling 9 fits\n",
      "[CV] gamma=0.0 .......................................................\n",
      "[CV] gamma=0.0 .......................................................\n",
      "[CV] gamma=0.0 .......................................................\n",
      "[CV] .............. gamma=0.0, score=0.9670846394984326, total=   6.8s\n",
      "[CV] gamma=0.1 .......................................................\n",
      "[CV] .............. gamma=0.0, score=0.9818507730226305, total=   7.0s\n",
      "[CV] gamma=0.1 .......................................................\n",
      "[CV] .............. gamma=0.0, score=0.9881298992161254, total=   7.8s\n",
      "[CV] gamma=0.1 .......................................................\n",
      "[CV] .............. gamma=0.1, score=0.9670846394984326, total=   6.5s\n",
      "[CV] gamma=0.2 .......................................................\n",
      "[CV] .............. gamma=0.1, score=0.9818507730226305, total=   6.7s\n",
      "[CV] gamma=0.2 .......................................................\n",
      "[CV] .............. gamma=0.1, score=0.9881298992161254, total=   7.4s\n",
      "[CV] gamma=0.2 .......................................................\n"
     ]
    },
    {
     "name": "stderr",
     "output_type": "stream",
     "text": [
      "[Parallel(n_jobs=3)]: Done   6 out of   9 | elapsed:   15.0s remaining:    7.5s\n"
     ]
    },
    {
     "name": "stdout",
     "output_type": "stream",
     "text": [
      "[CV] .............. gamma=0.2, score=0.9670846394984326, total=   6.7s\n",
      "[CV] .............. gamma=0.2, score=0.9818507730226305, total=   6.6s\n",
      "[CV] .............. gamma=0.2, score=0.9881298992161254, total=   7.0s\n"
     ]
    },
    {
     "name": "stderr",
     "output_type": "stream",
     "text": [
      "[Parallel(n_jobs=3)]: Done   9 out of   9 | elapsed:   22.0s finished\n"
     ]
    },
    {
     "name": "stdout",
     "output_type": "stream",
     "text": [
      "Fitting 3 folds for each of 16 candidates, totalling 48 fits\n",
      "[CV] colsample_bytree=0.6, subsample=0.6 .............................\n",
      "[CV] colsample_bytree=0.6, subsample=0.6 .............................\n",
      "[CV] colsample_bytree=0.6, subsample=0.6 .............................\n",
      "[CV]  colsample_bytree=0.6, subsample=0.6, score=0.9682042095835199, total=   6.4s\n",
      "[CV]  colsample_bytree=0.6, subsample=0.6, score=0.9829710956755545, total=   6.3s\n",
      "[CV] colsample_bytree=0.6, subsample=0.7 .............................\n",
      "[CV] colsample_bytree=0.6, subsample=0.7 .............................\n",
      "[CV]  colsample_bytree=0.6, subsample=0.6, score=0.9874580067189249, total=   6.9s\n",
      "[CV] colsample_bytree=0.6, subsample=0.7 .............................\n",
      "[CV]  colsample_bytree=0.6, subsample=0.7, score=0.9686520376175549, total=   6.6s\n",
      "[CV] colsample_bytree=0.6, subsample=0.8 .............................\n",
      "[CV]  colsample_bytree=0.6, subsample=0.7, score=0.9829710956755545, total=   6.5s\n",
      "[CV] colsample_bytree=0.6, subsample=0.8 .............................\n",
      "[CV]  colsample_bytree=0.6, subsample=0.7, score=0.9872340425531915, total=   7.0s\n",
      "[CV] colsample_bytree=0.6, subsample=0.8 .............................\n",
      "[CV]  colsample_bytree=0.6, subsample=0.8, score=0.9679802955665024, total=   6.5s\n",
      "[CV] colsample_bytree=0.6, subsample=0.9 .............................\n",
      "[CV]  colsample_bytree=0.6, subsample=0.8, score=0.9820748375532153, total=   6.3s\n",
      "[CV] colsample_bytree=0.6, subsample=0.9 .............................\n",
      "[CV]  colsample_bytree=0.6, subsample=0.8, score=0.9876819708846585, total=   7.1s\n",
      "[CV] colsample_bytree=0.6, subsample=0.9 .............................\n",
      "[CV]  colsample_bytree=0.6, subsample=0.9, score=0.9679802955665024, total=   6.7s\n",
      "[CV] colsample_bytree=0.7, subsample=0.6 .............................\n",
      "[CV]  colsample_bytree=0.6, subsample=0.9, score=0.9827470311449698, total=   6.4s\n",
      "[CV] colsample_bytree=0.7, subsample=0.6 .............................\n",
      "[CV]  colsample_bytree=0.6, subsample=0.9, score=0.9874580067189249, total=   7.2s\n",
      "[CV] colsample_bytree=0.7, subsample=0.6 .............................\n"
     ]
    },
    {
     "name": "stderr",
     "output_type": "stream",
     "text": [
      "[Parallel(n_jobs=3)]: Done  12 tasks      | elapsed:   27.9s\n"
     ]
    },
    {
     "name": "stdout",
     "output_type": "stream",
     "text": [
      "[CV]  colsample_bytree=0.7, subsample=0.6, score=0.9670846394984326, total=   6.6s\n",
      "[CV] colsample_bytree=0.7, subsample=0.7 .............................\n",
      "[CV]  colsample_bytree=0.7, subsample=0.6, score=0.982522966614385, total=   6.6s\n",
      "[CV] colsample_bytree=0.7, subsample=0.7 .............................\n",
      "[CV]  colsample_bytree=0.7, subsample=0.6, score=0.9879059350503919, total=   7.3s\n",
      "[CV] colsample_bytree=0.7, subsample=0.7 .............................\n",
      "[CV]  colsample_bytree=0.7, subsample=0.7, score=0.9670846394984326, total=   6.8s\n",
      "[CV] colsample_bytree=0.7, subsample=0.8 .............................\n",
      "[CV]  colsample_bytree=0.7, subsample=0.7, score=0.9822989020838001, total=   7.0s\n",
      "[CV] colsample_bytree=0.7, subsample=0.8 .............................\n",
      "[CV]  colsample_bytree=0.7, subsample=0.7, score=0.9879059350503919, total=   7.8s\n",
      "[CV] colsample_bytree=0.7, subsample=0.8 .............................\n",
      "[CV]  colsample_bytree=0.7, subsample=0.8, score=0.9670846394984326, total=   6.9s\n",
      "[CV] colsample_bytree=0.7, subsample=0.9 .............................\n",
      "[CV]  colsample_bytree=0.7, subsample=0.8, score=0.9822989020838001, total=   7.0s\n",
      "[CV] colsample_bytree=0.7, subsample=0.9 .............................\n",
      "[CV]  colsample_bytree=0.7, subsample=0.8, score=0.9881298992161254, total=   7.7s\n",
      "[CV] colsample_bytree=0.7, subsample=0.9 .............................\n",
      "[CV]  colsample_bytree=0.7, subsample=0.9, score=0.9670846394984326, total=   6.9s\n",
      "[CV] colsample_bytree=0.8, subsample=0.6 .............................\n",
      "[CV]  colsample_bytree=0.7, subsample=0.9, score=0.9881298992161254, total=   7.6s\n",
      "[CV]  colsample_bytree=0.7, subsample=0.9, score=0.9822989020838001, total=   7.0s\n",
      "[CV] colsample_bytree=0.8, subsample=0.6 .............................\n",
      "[CV] colsample_bytree=0.8, subsample=0.6 .............................\n",
      "[CV]  colsample_bytree=0.8, subsample=0.6, score=0.9670846394984326, total=   6.6s\n",
      "[CV] colsample_bytree=0.8, subsample=0.7 .............................\n",
      "[CV]  colsample_bytree=0.8, subsample=0.6, score=0.9818507730226305, total=   6.7s\n",
      "[CV] colsample_bytree=0.8, subsample=0.7 .............................\n",
      "[CV]  colsample_bytree=0.8, subsample=0.6, score=0.9879059350503919, total=   7.4s\n",
      "[CV] colsample_bytree=0.8, subsample=0.7 .............................\n",
      "[CV]  colsample_bytree=0.8, subsample=0.7, score=0.9670846394984326, total=   6.7s\n",
      "[CV] colsample_bytree=0.8, subsample=0.8 .............................\n",
      "[CV]  colsample_bytree=0.8, subsample=0.7, score=0.9818507730226305, total=   6.9s\n",
      "[CV] colsample_bytree=0.8, subsample=0.8 .............................\n",
      "[CV]  colsample_bytree=0.8, subsample=0.7, score=0.9879059350503919, total=   7.6s\n",
      "[CV] colsample_bytree=0.8, subsample=0.8 .............................\n",
      "[CV]  colsample_bytree=0.8, subsample=0.8, score=0.9670846394984326, total=   7.4s\n",
      "[CV] colsample_bytree=0.8, subsample=0.9 .............................\n",
      "[CV]  colsample_bytree=0.8, subsample=0.8, score=0.9818507730226305, total=   7.8s\n",
      "[CV] colsample_bytree=0.8, subsample=0.9 .............................\n",
      "[CV]  colsample_bytree=0.8, subsample=0.8, score=0.9881298992161254, total=   8.6s\n",
      "[CV] colsample_bytree=0.8, subsample=0.9 .............................\n",
      "[CV]  colsample_bytree=0.8, subsample=0.9, score=0.9670846394984326, total=   7.6s\n",
      "[CV] colsample_bytree=0.9, subsample=0.6 .............................\n",
      "[CV]  colsample_bytree=0.8, subsample=0.9, score=0.9818507730226305, total=   7.8s\n",
      "[CV] colsample_bytree=0.9, subsample=0.6 .............................\n",
      "[CV]  colsample_bytree=0.8, subsample=0.9, score=0.9881298992161254, total=   8.8s\n",
      "[CV] colsample_bytree=0.9, subsample=0.6 .............................\n",
      "[CV]  colsample_bytree=0.9, subsample=0.6, score=0.9670846394984326, total=   6.9s\n",
      "[CV] colsample_bytree=0.9, subsample=0.7 .............................\n",
      "[CV]  colsample_bytree=0.9, subsample=0.6, score=0.9818507730226305, total=   8.0s\n",
      "[CV]  colsample_bytree=0.9, subsample=0.6, score=0.9879059350503919, total=   8.4s\n",
      "[CV] colsample_bytree=0.9, subsample=0.7 .............................\n",
      "[CV] colsample_bytree=0.9, subsample=0.7 .............................\n",
      "[CV]  colsample_bytree=0.9, subsample=0.7, score=0.9670846394984326, total=   7.4s\n",
      "[CV] colsample_bytree=0.9, subsample=0.8 .............................\n",
      "[CV]  colsample_bytree=0.9, subsample=0.7, score=0.9818507730226305, total=   7.9s\n",
      "[CV] colsample_bytree=0.9, subsample=0.8 .............................\n",
      "[CV]  colsample_bytree=0.9, subsample=0.7, score=0.9879059350503919, total=   8.2s\n",
      "[CV] colsample_bytree=0.9, subsample=0.8 .............................\n",
      "[CV]  colsample_bytree=0.9, subsample=0.8, score=0.9670846394984326, total=   7.1s\n",
      "[CV] colsample_bytree=0.9, subsample=0.9 .............................\n",
      "[CV]  colsample_bytree=0.9, subsample=0.9, score=0.9670846394984326, total=   7.1s\n",
      "[CV] colsample_bytree=0.9, subsample=0.9 .............................\n",
      "[CV]  colsample_bytree=0.9, subsample=0.8, score=0.9818507730226305, total=   7.6s\n",
      "[CV] colsample_bytree=0.9, subsample=0.9 .............................\n",
      "[CV]  colsample_bytree=0.9, subsample=0.8, score=0.9881298992161254, total=   8.3s\n",
      "[CV]  colsample_bytree=0.9, subsample=0.9, score=0.9818507730226305, total=   6.3s\n",
      "[CV]  colsample_bytree=0.9, subsample=0.9, score=0.9881298992161254, total=   6.8s\n"
     ]
    },
    {
     "name": "stderr",
     "output_type": "stream",
     "text": [
      "[Parallel(n_jobs=3)]: Done  48 out of  48 | elapsed:  2.0min finished\n"
     ]
    },
    {
     "name": "stdout",
     "output_type": "stream",
     "text": [
      "Fitting 3 folds for each of 3 candidates, totalling 9 fits\n",
      "[CV] learning_rate=0.01 ..............................................\n",
      "[CV] learning_rate=0.01 ..............................................\n",
      "[CV] learning_rate=0.01 ..............................................\n",
      "[CV] ..... learning_rate=0.01, score=0.9829710956755545, total=   7.1s\n",
      "[CV] learning_rate=0.05 ..............................................\n",
      "[CV] ...... learning_rate=0.01, score=0.967756381549485, total=   7.4s\n",
      "[CV] learning_rate=0.05 ..............................................\n",
      "[CV] ..... learning_rate=0.01, score=0.9861142217245241, total=   7.9s\n",
      "[CV] learning_rate=0.05 ..............................................\n",
      "[CV] ..... learning_rate=0.05, score=0.9675324675324676, total=   7.2s\n",
      "[CV] learning_rate=0.1 ...............................................\n",
      "[CV] ..... learning_rate=0.05, score=0.9827470311449698, total=   7.0s\n",
      "[CV] learning_rate=0.1 ...............................................\n",
      "[CV] ..... learning_rate=0.05, score=0.9874580067189249, total=   7.8s\n",
      "[CV] learning_rate=0.1 ...............................................\n"
     ]
    },
    {
     "name": "stderr",
     "output_type": "stream",
     "text": [
      "[Parallel(n_jobs=3)]: Done   6 out of   9 | elapsed:   15.7s remaining:    7.8s\n"
     ]
    },
    {
     "name": "stdout",
     "output_type": "stream",
     "text": [
      "[CV] ...... learning_rate=0.1, score=0.9686520376175549, total=   7.4s\n",
      "[CV] ...... learning_rate=0.1, score=0.9829710956755545, total=   6.9s\n",
      "[CV] ...... learning_rate=0.1, score=0.9872340425531915, total=   7.5s\n"
     ]
    },
    {
     "name": "stderr",
     "output_type": "stream",
     "text": [
      "[Parallel(n_jobs=3)]: Done   9 out of   9 | elapsed:   23.1s finished\n"
     ]
    },
    {
     "name": "stdout",
     "output_type": "stream",
     "text": [
      "R 0.999774724037\n",
      "Fitting 3 folds for each of 9 candidates, totalling 27 fits\n",
      "[CV] max_depth=8, min_child_weight=1 .................................\n",
      "[CV] max_depth=8, min_child_weight=1 .................................\n",
      "[CV] max_depth=8, min_child_weight=1 .................................\n",
      "[CV]  max_depth=8, min_child_weight=1, score=0.9393057110862262, total=   5.8s\n",
      "[CV] max_depth=8, min_child_weight=3 .................................\n",
      "[CV]  max_depth=8, min_child_weight=1, score=0.8951612903225806, total=   5.9s\n",
      "[CV] max_depth=8, min_child_weight=3 .................................\n",
      "[CV]  max_depth=8, min_child_weight=1, score=0.9997760358342666, total=   6.3s\n",
      "[CV] max_depth=8, min_child_weight=3 .................................\n",
      "[CV]  max_depth=8, min_child_weight=3, score=0.9393057110862262, total=   5.5s\n",
      "[CV] max_depth=8, min_child_weight=5 .................................\n",
      "[CV]  max_depth=8, min_child_weight=3, score=0.9997760358342666, total=   6.1s\n",
      "[CV] max_depth=8, min_child_weight=5 .................................\n",
      "[CV]  max_depth=8, min_child_weight=3, score=0.8951612903225806, total=   5.8s\n",
      "[CV] max_depth=8, min_child_weight=5 .................................\n",
      "[CV]  max_depth=8, min_child_weight=5, score=0.9393057110862262, total=   5.5s\n",
      "[CV] max_depth=10, min_child_weight=1 ................................\n",
      "[CV]  max_depth=8, min_child_weight=5, score=0.8951612903225806, total=   5.7s\n",
      "[CV] max_depth=10, min_child_weight=1 ................................\n",
      "[CV]  max_depth=8, min_child_weight=5, score=0.9997760358342666, total=   6.2s\n",
      "[CV] max_depth=10, min_child_weight=1 ................................\n",
      "[CV]  max_depth=10, min_child_weight=1, score=0.9393057110862262, total=   5.5s\n",
      "[CV] max_depth=10, min_child_weight=3 ................................\n",
      "[CV]  max_depth=10, min_child_weight=1, score=0.8951612903225806, total=   5.7s\n",
      "[CV] max_depth=10, min_child_weight=3 ................................\n",
      "[CV]  max_depth=10, min_child_weight=1, score=0.9997760358342666, total=   6.3s\n",
      "[CV] max_depth=10, min_child_weight=3 ................................\n"
     ]
    },
    {
     "name": "stderr",
     "output_type": "stream",
     "text": [
      "[Parallel(n_jobs=3)]: Done  12 tasks      | elapsed:   24.7s\n"
     ]
    },
    {
     "name": "stdout",
     "output_type": "stream",
     "text": [
      "[CV]  max_depth=10, min_child_weight=3, score=0.9393057110862262, total=   5.6s\n",
      "[CV] max_depth=10, min_child_weight=5 ................................\n",
      "[CV]  max_depth=10, min_child_weight=3, score=0.8951612903225806, total=   5.6s\n",
      "[CV] max_depth=10, min_child_weight=5 ................................\n",
      "[CV]  max_depth=10, min_child_weight=3, score=0.9997760358342666, total=   6.2s\n",
      "[CV] max_depth=10, min_child_weight=5 ................................\n",
      "[CV]  max_depth=10, min_child_weight=5, score=0.9393057110862262, total=   5.5s\n",
      "[CV] max_depth=12, min_child_weight=1 ................................\n",
      "[CV]  max_depth=10, min_child_weight=5, score=0.8951612903225806, total=   5.7s\n",
      "[CV]  max_depth=10, min_child_weight=5, score=0.9997760358342666, total=   6.1s\n",
      "[CV] max_depth=12, min_child_weight=1 ................................\n",
      "[CV] max_depth=12, min_child_weight=1 ................................\n",
      "[CV]  max_depth=12, min_child_weight=1, score=0.9393057110862262, total=   5.5s\n",
      "[CV] max_depth=12, min_child_weight=3 ................................\n",
      "[CV]  max_depth=12, min_child_weight=1, score=0.8951612903225806, total=   5.6s\n",
      "[CV] max_depth=12, min_child_weight=3 ................................\n",
      "[CV]  max_depth=12, min_child_weight=1, score=0.9997760358342666, total=   6.1s\n",
      "[CV] max_depth=12, min_child_weight=3 ................................\n",
      "[CV]  max_depth=12, min_child_weight=3, score=0.9393057110862262, total=   5.6s\n",
      "[CV] max_depth=12, min_child_weight=5 ................................\n",
      "[CV]  max_depth=12, min_child_weight=3, score=0.9997760358342666, total=   6.2s\n",
      "[CV] max_depth=12, min_child_weight=5 ................................\n",
      "[CV]  max_depth=12, min_child_weight=3, score=0.8951612903225806, total=   5.8s\n",
      "[CV] max_depth=12, min_child_weight=5 ................................\n",
      "[CV]  max_depth=12, min_child_weight=5, score=0.9393057110862262, total=   5.5s\n",
      "[CV]  max_depth=12, min_child_weight=5, score=0.8951612903225806, total=   4.9s\n",
      "[CV]  max_depth=12, min_child_weight=5, score=0.9997760358342666, total=   5.2s\n"
     ]
    },
    {
     "name": "stderr",
     "output_type": "stream",
     "text": [
      "[Parallel(n_jobs=3)]: Done  27 out of  27 | elapsed:   53.9s finished\n"
     ]
    },
    {
     "name": "stdout",
     "output_type": "stream",
     "text": [
      "Fitting 3 folds for each of 3 candidates, totalling 9 fits\n",
      "[CV] gamma=0.0 .......................................................\n",
      "[CV] gamma=0.0 .......................................................\n",
      "[CV] gamma=0.0 .......................................................\n",
      "[CV] .............. gamma=0.0, score=0.9393057110862262, total=   5.5s\n",
      "[CV] gamma=0.1 .......................................................\n",
      "[CV] .............. gamma=0.0, score=0.8951612903225806, total=   5.6s\n",
      "[CV] gamma=0.1 .......................................................\n",
      "[CV] .............. gamma=0.0, score=0.9997760358342666, total=   6.1s\n",
      "[CV] gamma=0.1 .......................................................\n",
      "[CV] .............. gamma=0.1, score=0.9393057110862262, total=   5.6s\n",
      "[CV] gamma=0.2 .......................................................\n",
      "[CV] .............. gamma=0.1, score=0.9997760358342666, total=   6.1s\n",
      "[CV] gamma=0.2 .......................................................\n",
      "[CV] .............. gamma=0.1, score=0.8951612903225806, total=   5.6s\n",
      "[CV] gamma=0.2 .......................................................\n"
     ]
    },
    {
     "name": "stderr",
     "output_type": "stream",
     "text": [
      "[Parallel(n_jobs=3)]: Done   6 out of   9 | elapsed:   12.2s remaining:    6.1s\n"
     ]
    },
    {
     "name": "stdout",
     "output_type": "stream",
     "text": [
      "[CV] .............. gamma=0.2, score=0.9393057110862262, total=   5.5s\n",
      "[CV] .............. gamma=0.2, score=0.8951612903225806, total=   5.5s\n",
      "[CV] .............. gamma=0.2, score=0.9997760358342666, total=   5.8s\n"
     ]
    },
    {
     "name": "stderr",
     "output_type": "stream",
     "text": [
      "[Parallel(n_jobs=3)]: Done   9 out of   9 | elapsed:   18.0s finished\n"
     ]
    },
    {
     "name": "stdout",
     "output_type": "stream",
     "text": [
      "Fitting 3 folds for each of 16 candidates, totalling 48 fits\n",
      "[CV] colsample_bytree=0.6, subsample=0.6 .............................\n",
      "[CV] colsample_bytree=0.6, subsample=0.6 .............................\n",
      "[CV] colsample_bytree=0.6, subsample=0.6 .............................\n",
      "[CV]  colsample_bytree=0.6, subsample=0.6, score=0.9399776035834266, total=   5.4s\n",
      "[CV] colsample_bytree=0.6, subsample=0.7 .............................\n",
      "[CV]  colsample_bytree=0.6, subsample=0.6, score=0.8951612903225806, total=   5.5s\n",
      "[CV] colsample_bytree=0.6, subsample=0.7 .............................\n",
      "[CV]  colsample_bytree=0.6, subsample=0.6, score=0.999552071668533, total=   5.7s\n",
      "[CV] colsample_bytree=0.6, subsample=0.7 .............................\n",
      "[CV]  colsample_bytree=0.6, subsample=0.7, score=0.9397536394176932, total=   5.5s\n",
      "[CV] colsample_bytree=0.6, subsample=0.8 .............................\n",
      "[CV]  colsample_bytree=0.6, subsample=0.7, score=0.8951612903225806, total=   5.6s\n",
      "[CV] colsample_bytree=0.6, subsample=0.8 .............................\n",
      "[CV]  colsample_bytree=0.6, subsample=0.7, score=0.9993281075027995, total=   5.8s\n",
      "[CV] colsample_bytree=0.6, subsample=0.8 .............................\n",
      "[CV]  colsample_bytree=0.6, subsample=0.8, score=0.9393057110862262, total=   5.7s\n",
      "[CV] colsample_bytree=0.6, subsample=0.9 .............................\n",
      "[CV]  colsample_bytree=0.6, subsample=0.8, score=0.8951612903225806, total=   5.8s\n",
      "[CV] colsample_bytree=0.6, subsample=0.9 .............................\n",
      "[CV]  colsample_bytree=0.6, subsample=0.8, score=0.9993281075027995, total=   6.1s\n",
      "[CV] colsample_bytree=0.6, subsample=0.9 .............................\n",
      "[CV]  colsample_bytree=0.6, subsample=0.9, score=0.9395296752519597, total=   5.6s\n",
      "[CV] colsample_bytree=0.7, subsample=0.6 .............................\n",
      "[CV]  colsample_bytree=0.6, subsample=0.9, score=0.8951612903225806, total=   5.7s\n",
      "[CV] colsample_bytree=0.7, subsample=0.6 .............................\n",
      "[CV]  colsample_bytree=0.6, subsample=0.9, score=0.9997760358342666, total=   6.0s\n",
      "[CV] colsample_bytree=0.7, subsample=0.6 .............................\n"
     ]
    },
    {
     "name": "stderr",
     "output_type": "stream",
     "text": [
      "[Parallel(n_jobs=3)]: Done  12 tasks      | elapsed:   23.8s\n"
     ]
    },
    {
     "name": "stdout",
     "output_type": "stream",
     "text": [
      "[CV]  colsample_bytree=0.7, subsample=0.6, score=0.9393057110862262, total=   5.5s\n",
      "[CV] colsample_bytree=0.7, subsample=0.7 .............................\n",
      "[CV]  colsample_bytree=0.7, subsample=0.6, score=0.8951612903225806, total=   5.7s\n",
      "[CV] colsample_bytree=0.7, subsample=0.7 .............................\n",
      "[CV]  colsample_bytree=0.7, subsample=0.6, score=0.9997760358342666, total=   5.9s\n",
      "[CV] colsample_bytree=0.7, subsample=0.7 .............................\n",
      "[CV]  colsample_bytree=0.7, subsample=0.7, score=0.9388577827547593, total=   5.6s\n",
      "[CV] colsample_bytree=0.7, subsample=0.8 .............................\n",
      "[CV]  colsample_bytree=0.7, subsample=0.7, score=0.8951612903225806, total=   6.0s\n",
      "[CV] colsample_bytree=0.7, subsample=0.8 .............................\n",
      "[CV]  colsample_bytree=0.7, subsample=0.7, score=0.9997760358342666, total=   6.3s\n",
      "[CV] colsample_bytree=0.7, subsample=0.8 .............................\n",
      "[CV]  colsample_bytree=0.7, subsample=0.8, score=0.9388577827547593, total=   6.2s\n",
      "[CV] colsample_bytree=0.7, subsample=0.9 .............................\n",
      "[CV]  colsample_bytree=0.7, subsample=0.8, score=0.9997760358342666, total=   6.6s\n",
      "[CV]  colsample_bytree=0.7, subsample=0.8, score=0.8951612903225806, total=   6.4s\n",
      "[CV] colsample_bytree=0.7, subsample=0.9 .............................\n",
      "[CV] colsample_bytree=0.7, subsample=0.9 .............................\n",
      "[CV]  colsample_bytree=0.7, subsample=0.9, score=0.9390817469204927, total=   5.7s\n",
      "[CV] colsample_bytree=0.8, subsample=0.6 .............................\n",
      "[CV]  colsample_bytree=0.7, subsample=0.9, score=0.8951612903225806, total=   6.1s\n",
      "[CV] colsample_bytree=0.8, subsample=0.6 .............................\n",
      "[CV]  colsample_bytree=0.7, subsample=0.9, score=0.9997760358342666, total=   6.3s\n",
      "[CV] colsample_bytree=0.8, subsample=0.6 .............................\n",
      "[CV]  colsample_bytree=0.8, subsample=0.6, score=0.9377379619260918, total=   5.6s\n",
      "[CV] colsample_bytree=0.8, subsample=0.7 .............................\n",
      "[CV]  colsample_bytree=0.8, subsample=0.6, score=0.8951612903225806, total=   5.6s\n",
      "[CV] colsample_bytree=0.8, subsample=0.7 .............................\n",
      "[CV]  colsample_bytree=0.8, subsample=0.6, score=0.9997760358342666, total=   6.1s\n",
      "[CV] colsample_bytree=0.8, subsample=0.7 .............................\n",
      "[CV]  colsample_bytree=0.8, subsample=0.7, score=0.9363941769316908, total=   5.6s\n",
      "[CV] colsample_bytree=0.8, subsample=0.8 .............................\n",
      "[CV]  colsample_bytree=0.8, subsample=0.7, score=0.8951612903225806, total=   5.7s\n",
      "[CV]  colsample_bytree=0.8, subsample=0.7, score=0.9997760358342666, total=   6.1s\n",
      "[CV] colsample_bytree=0.8, subsample=0.8 .............................\n",
      "[CV] colsample_bytree=0.8, subsample=0.8 .............................\n",
      "[CV]  colsample_bytree=0.8, subsample=0.8, score=0.9361702127659575, total=   5.6s\n",
      "[CV] colsample_bytree=0.8, subsample=0.9 .............................\n",
      "[CV]  colsample_bytree=0.8, subsample=0.8, score=0.8951612903225806, total=   5.8s\n",
      "[CV] colsample_bytree=0.8, subsample=0.9 .............................\n",
      "[CV]  colsample_bytree=0.8, subsample=0.8, score=0.9997760358342666, total=   6.4s\n",
      "[CV] colsample_bytree=0.8, subsample=0.9 .............................\n",
      "[CV]  colsample_bytree=0.8, subsample=0.9, score=0.9370660694288914, total=   6.0s\n",
      "[CV] colsample_bytree=0.9, subsample=0.6 .............................\n",
      "[CV]  colsample_bytree=0.8, subsample=0.9, score=0.9997760358342666, total=   6.5s\n",
      "[CV] colsample_bytree=0.9, subsample=0.6 .............................\n",
      "[CV]  colsample_bytree=0.8, subsample=0.9, score=0.8951612903225806, total=   6.0s\n",
      "[CV] colsample_bytree=0.9, subsample=0.6 .............................\n",
      "[CV]  colsample_bytree=0.9, subsample=0.6, score=0.9390817469204927, total=   5.6s\n",
      "[CV] colsample_bytree=0.9, subsample=0.7 .............................\n",
      "[CV]  colsample_bytree=0.9, subsample=0.6, score=0.9997760358342666, total=   6.1s\n",
      "[CV]  colsample_bytree=0.9, subsample=0.6, score=0.8951612903225806, total=   6.0s\n",
      "[CV] colsample_bytree=0.9, subsample=0.7 .............................\n",
      "[CV] colsample_bytree=0.9, subsample=0.7 .............................\n",
      "[CV]  colsample_bytree=0.9, subsample=0.7, score=0.9388577827547593, total=   5.6s\n",
      "[CV] colsample_bytree=0.9, subsample=0.8 .............................\n",
      "[CV]  colsample_bytree=0.9, subsample=0.7, score=0.8951612903225806, total=   6.1s\n",
      "[CV]  colsample_bytree=0.9, subsample=0.7, score=0.9997760358342666, total=   6.3s\n",
      "[CV] colsample_bytree=0.9, subsample=0.8 .............................\n",
      "[CV] colsample_bytree=0.9, subsample=0.8 .............................\n",
      "[CV]  colsample_bytree=0.9, subsample=0.8, score=0.9363941769316908, total=   5.8s\n",
      "[CV] colsample_bytree=0.9, subsample=0.9 .............................\n",
      "[CV]  colsample_bytree=0.9, subsample=0.8, score=0.8951612903225806, total=   5.7s\n",
      "[CV] colsample_bytree=0.9, subsample=0.9 .............................\n",
      "[CV]  colsample_bytree=0.9, subsample=0.8, score=0.9997760358342666, total=   6.1s\n",
      "[CV] colsample_bytree=0.9, subsample=0.9 .............................\n",
      "[CV]  colsample_bytree=0.9, subsample=0.9, score=0.935498320268757, total=   5.6s\n",
      "[CV]  colsample_bytree=0.9, subsample=0.9, score=0.8951612903225806, total=   4.9s\n",
      "[CV]  colsample_bytree=0.9, subsample=0.9, score=0.9997760358342666, total=   5.2s\n"
     ]
    },
    {
     "name": "stderr",
     "output_type": "stream",
     "text": [
      "[Parallel(n_jobs=3)]: Done  48 out of  48 | elapsed:  1.6min finished\n"
     ]
    },
    {
     "name": "stdout",
     "output_type": "stream",
     "text": [
      "Fitting 3 folds for each of 3 candidates, totalling 9 fits\n",
      "[CV] learning_rate=0.01 ..............................................\n",
      "[CV] learning_rate=0.01 ..............................................\n",
      "[CV] learning_rate=0.01 ..............................................\n",
      "[CV] ..... learning_rate=0.01, score=0.9433370660694289, total=   5.5s\n",
      "[CV] learning_rate=0.05 ..............................................\n",
      "[CV] ..... learning_rate=0.01, score=0.8951612903225806, total=   5.6s\n",
      "[CV] learning_rate=0.05 ..............................................\n",
      "[CV] ..... learning_rate=0.01, score=0.9959686450167973, total=   5.9s\n",
      "[CV] learning_rate=0.05 ..............................................\n",
      "[CV] ..... learning_rate=0.05, score=0.9404255319148935, total=   5.6s\n",
      "[CV] learning_rate=0.1 ...............................................\n",
      "[CV] ..... learning_rate=0.05, score=0.9975363941769317, total=   5.9s\n",
      "[CV] learning_rate=0.1 ...............................................\n",
      "[CV] ..... learning_rate=0.05, score=0.8951612903225806, total=   5.7s\n",
      "[CV] learning_rate=0.1 ...............................................\n"
     ]
    },
    {
     "name": "stderr",
     "output_type": "stream",
     "text": [
      "[Parallel(n_jobs=3)]: Done   6 out of   9 | elapsed:   12.3s remaining:    6.2s\n"
     ]
    },
    {
     "name": "stdout",
     "output_type": "stream",
     "text": [
      "[CV] ...... learning_rate=0.1, score=0.9399776035834266, total=   5.5s\n",
      "[CV] ...... learning_rate=0.1, score=0.8951612903225806, total=   5.5s\n",
      "[CV] ....... learning_rate=0.1, score=0.999552071668533, total=   5.8s\n"
     ]
    },
    {
     "name": "stderr",
     "output_type": "stream",
     "text": [
      "[Parallel(n_jobs=3)]: Done   9 out of   9 | elapsed:   18.0s finished\n"
     ]
    },
    {
     "name": "stdout",
     "output_type": "stream",
     "text": [
      "F 1.0\n",
      "Fitting 3 folds for each of 9 candidates, totalling 27 fits\n",
      "[CV] max_depth=8, min_child_weight=1 .................................\n",
      "[CV] max_depth=8, min_child_weight=1 .................................\n",
      "[CV] max_depth=8, min_child_weight=1 .................................\n",
      "[CV]  max_depth=8, min_child_weight=1, score=0.9926108374384236, total=   7.5s\n",
      "[CV] max_depth=8, min_child_weight=3 .................................\n",
      "[CV]  max_depth=8, min_child_weight=1, score=0.9926058704907014, total=   7.6s\n",
      "[CV] max_depth=8, min_child_weight=3 .................................\n",
      "[CV]  max_depth=8, min_child_weight=1, score=0.9948488241881299, total=   8.4s\n",
      "[CV] max_depth=8, min_child_weight=3 .................................\n",
      "[CV]  max_depth=8, min_child_weight=3, score=0.9923869234214062, total=   6.7s\n",
      "[CV] max_depth=8, min_child_weight=5 .................................\n",
      "[CV]  max_depth=8, min_child_weight=3, score=0.9948488241881299, total=   7.7s\n",
      "[CV] max_depth=8, min_child_weight=5 .................................\n",
      "[CV]  max_depth=8, min_child_weight=3, score=0.9932780640824558, total=   7.0s\n",
      "[CV] max_depth=8, min_child_weight=5 .................................\n",
      "[CV]  max_depth=8, min_child_weight=5, score=0.9923869234214062, total=   6.5s\n",
      "[CV] max_depth=10, min_child_weight=1 ................................\n",
      "[CV]  max_depth=8, min_child_weight=5, score=0.9950705803271342, total=   6.6s\n",
      "[CV] max_depth=10, min_child_weight=1 ................................\n",
      "[CV]  max_depth=8, min_child_weight=5, score=0.9955207166853304, total=   7.1s\n",
      "[CV] max_depth=10, min_child_weight=1 ................................\n",
      "[CV]  max_depth=10, min_child_weight=1, score=0.9926108374384236, total=   7.4s\n",
      "[CV] max_depth=10, min_child_weight=3 ................................\n",
      "[CV]  max_depth=10, min_child_weight=1, score=0.9926058704907014, total=   7.6s\n",
      "[CV] max_depth=10, min_child_weight=3 ................................\n",
      "[CV]  max_depth=10, min_child_weight=1, score=0.9948488241881299, total=   8.1s\n",
      "[CV] max_depth=10, min_child_weight=3 ................................\n"
     ]
    },
    {
     "name": "stderr",
     "output_type": "stream",
     "text": [
      "[Parallel(n_jobs=3)]: Done  12 tasks      | elapsed:   30.9s\n"
     ]
    },
    {
     "name": "stdout",
     "output_type": "stream",
     "text": [
      "[CV]  max_depth=10, min_child_weight=3, score=0.9923869234214062, total=   6.9s\n",
      "[CV] max_depth=10, min_child_weight=5 ................................\n",
      "[CV]  max_depth=10, min_child_weight=3, score=0.9932780640824558, total=   7.4s\n",
      "[CV] max_depth=10, min_child_weight=5 ................................\n",
      "[CV]  max_depth=10, min_child_weight=3, score=0.9948488241881299, total=   8.1s\n",
      "[CV] max_depth=10, min_child_weight=5 ................................\n",
      "[CV]  max_depth=10, min_child_weight=5, score=0.9923869234214062, total=   6.8s\n",
      "[CV] max_depth=12, min_child_weight=1 ................................\n",
      "[CV]  max_depth=10, min_child_weight=5, score=0.9950705803271342, total=   6.6s\n",
      "[CV] max_depth=12, min_child_weight=1 ................................\n",
      "[CV]  max_depth=10, min_child_weight=5, score=0.9955207166853304, total=   7.3s\n",
      "[CV] max_depth=12, min_child_weight=1 ................................\n",
      "[CV]  max_depth=12, min_child_weight=1, score=0.9926108374384236, total=   7.2s\n",
      "[CV] max_depth=12, min_child_weight=3 ................................\n",
      "[CV]  max_depth=12, min_child_weight=1, score=0.9926058704907014, total=   7.3s\n",
      "[CV] max_depth=12, min_child_weight=3 ................................\n",
      "[CV]  max_depth=12, min_child_weight=1, score=0.9948488241881299, total=   7.9s\n",
      "[CV] max_depth=12, min_child_weight=3 ................................\n",
      "[CV]  max_depth=12, min_child_weight=3, score=0.9923869234214062, total=   6.5s\n",
      "[CV] max_depth=12, min_child_weight=5 ................................\n",
      "[CV]  max_depth=12, min_child_weight=3, score=0.9932780640824558, total=   6.8s\n",
      "[CV] max_depth=12, min_child_weight=5 ................................\n",
      "[CV]  max_depth=12, min_child_weight=3, score=0.9948488241881299, total=   7.4s\n",
      "[CV] max_depth=12, min_child_weight=5 ................................\n",
      "[CV]  max_depth=12, min_child_weight=5, score=0.9923869234214062, total=   6.5s\n",
      "[CV]  max_depth=12, min_child_weight=5, score=0.9950705803271342, total=   5.4s\n",
      "[CV]  max_depth=12, min_child_weight=5, score=0.9955207166853304, total=   5.9s\n"
     ]
    },
    {
     "name": "stderr",
     "output_type": "stream",
     "text": [
      "[Parallel(n_jobs=3)]: Done  27 out of  27 | elapsed:  1.1min finished\n"
     ]
    },
    {
     "name": "stdout",
     "output_type": "stream",
     "text": [
      "Fitting 3 folds for each of 3 candidates, totalling 9 fits\n",
      "[CV] gamma=0.0 .......................................................\n",
      "[CV] gamma=0.0 .......................................................\n",
      "[CV] gamma=0.0 .......................................................\n",
      "[CV] .............. gamma=0.0, score=0.9923869234214062, total=   6.4s\n",
      "[CV] .............. gamma=0.0, score=0.9950705803271342, total=   6.5s\n",
      "[CV] gamma=0.1 .......................................................\n",
      "[CV] gamma=0.1 .......................................................\n",
      "[CV] .............. gamma=0.0, score=0.9955207166853304, total=   7.1s\n",
      "[CV] gamma=0.1 .......................................................\n",
      "[CV] .............. gamma=0.1, score=0.9923869234214062, total=   6.7s\n",
      "[CV] gamma=0.2 .......................................................\n",
      "[CV] .............. gamma=0.1, score=0.9948465157965494, total=   6.8s\n",
      "[CV] gamma=0.2 .......................................................\n",
      "[CV] .............. gamma=0.1, score=0.9955207166853304, total=   7.4s\n",
      "[CV] gamma=0.2 .......................................................\n"
     ]
    },
    {
     "name": "stderr",
     "output_type": "stream",
     "text": [
      "[Parallel(n_jobs=3)]: Done   6 out of   9 | elapsed:   14.5s remaining:    7.2s\n"
     ]
    },
    {
     "name": "stdout",
     "output_type": "stream",
     "text": [
      "[CV] .............. gamma=0.2, score=0.9923869234214062, total=   6.7s\n",
      "[CV] .............. gamma=0.2, score=0.9948465157965494, total=   6.6s\n",
      "[CV] .............. gamma=0.2, score=0.9952967525195968, total=   7.0s\n"
     ]
    },
    {
     "name": "stderr",
     "output_type": "stream",
     "text": [
      "[Parallel(n_jobs=3)]: Done   9 out of   9 | elapsed:   21.4s finished\n"
     ]
    },
    {
     "name": "stdout",
     "output_type": "stream",
     "text": [
      "Fitting 3 folds for each of 16 candidates, totalling 48 fits\n",
      "[CV] colsample_bytree=0.6, subsample=0.6 .............................\n",
      "[CV] colsample_bytree=0.6, subsample=0.6 .............................\n",
      "[CV] colsample_bytree=0.6, subsample=0.6 .............................\n",
      "[CV]  colsample_bytree=0.6, subsample=0.6, score=0.9928299350212861, total=   5.3s\n",
      "[CV] colsample_bytree=0.6, subsample=0.7 .............................\n",
      "[CV]  colsample_bytree=0.6, subsample=0.6, score=0.9932825794894761, total=   5.5s\n",
      "[CV] colsample_bytree=0.6, subsample=0.7 .............................\n",
      "[CV]  colsample_bytree=0.6, subsample=0.6, score=0.9961926091825308, total=   5.7s\n",
      "[CV] colsample_bytree=0.6, subsample=0.7 .............................\n",
      "[CV]  colsample_bytree=0.6, subsample=0.7, score=0.9932825794894761, total=   5.6s\n",
      "[CV] colsample_bytree=0.6, subsample=0.8 .............................\n",
      "[CV]  colsample_bytree=0.6, subsample=0.7, score=0.9939502576742102, total=   5.3s\n",
      "[CV] colsample_bytree=0.6, subsample=0.8 .............................\n",
      "[CV]  colsample_bytree=0.6, subsample=0.7, score=0.9961926091825308, total=   5.7s\n",
      "[CV] colsample_bytree=0.6, subsample=0.8 .............................\n",
      "[CV]  colsample_bytree=0.6, subsample=0.8, score=0.9935021286130405, total=   5.4s\n",
      "[CV] colsample_bytree=0.6, subsample=0.9 .............................\n",
      "[CV]  colsample_bytree=0.6, subsample=0.8, score=0.9928347514554411, total=   5.7s\n",
      "[CV] colsample_bytree=0.6, subsample=0.9 .............................\n",
      "[CV]  colsample_bytree=0.6, subsample=0.8, score=0.9961926091825308, total=   5.9s\n",
      "[CV] colsample_bytree=0.6, subsample=0.9 .............................\n",
      "[CV]  colsample_bytree=0.6, subsample=0.9, score=0.9928347514554411, total=   5.7s\n",
      "[CV] colsample_bytree=0.7, subsample=0.6 .............................\n",
      "[CV]  colsample_bytree=0.6, subsample=0.9, score=0.9935021286130405, total=   5.4s\n",
      "[CV] colsample_bytree=0.7, subsample=0.6 .............................\n",
      "[CV]  colsample_bytree=0.6, subsample=0.9, score=0.9961926091825308, total=   5.9s\n",
      "[CV] colsample_bytree=0.7, subsample=0.6 .............................\n"
     ]
    },
    {
     "name": "stderr",
     "output_type": "stream",
     "text": [
      "[Parallel(n_jobs=3)]: Done  12 tasks      | elapsed:   23.3s\n"
     ]
    },
    {
     "name": "stdout",
     "output_type": "stream",
     "text": [
      "[CV]  colsample_bytree=0.7, subsample=0.6, score=0.9930539995518709, total=   5.3s\n",
      "[CV] colsample_bytree=0.7, subsample=0.7 .............................\n",
      "[CV]  colsample_bytree=0.7, subsample=0.6, score=0.9932825794894761, total=   5.7s\n",
      "[CV] colsample_bytree=0.7, subsample=0.7 .............................\n",
      "[CV]  colsample_bytree=0.7, subsample=0.6, score=0.9961926091825308, total=   5.8s\n",
      "[CV] colsample_bytree=0.7, subsample=0.7 .............................\n",
      "[CV]  colsample_bytree=0.7, subsample=0.7, score=0.9935021286130405, total=   5.4s\n",
      "[CV]  colsample_bytree=0.7, subsample=0.7, score=0.9932825794894761, total=   5.7s\n",
      "[CV] colsample_bytree=0.7, subsample=0.8 .............................\n",
      "[CV] colsample_bytree=0.7, subsample=0.8 .............................\n",
      "[CV]  colsample_bytree=0.7, subsample=0.7, score=0.9957446808510638, total=   5.9s\n",
      "[CV] colsample_bytree=0.7, subsample=0.8 .............................\n",
      "[CV]  colsample_bytree=0.7, subsample=0.8, score=0.9930539995518709, total=   5.4s\n",
      "[CV] colsample_bytree=0.7, subsample=0.9 .............................\n",
      "[CV]  colsample_bytree=0.7, subsample=0.8, score=0.9923869234214062, total=   5.9s\n",
      "[CV] colsample_bytree=0.7, subsample=0.9 .............................\n",
      "[CV]  colsample_bytree=0.7, subsample=0.8, score=0.9970884658454647, total=   6.0s\n",
      "[CV] colsample_bytree=0.7, subsample=0.9 .............................\n",
      "[CV]  colsample_bytree=0.7, subsample=0.9, score=0.9928347514554411, total=   6.0s\n",
      "[CV]  colsample_bytree=0.7, subsample=0.9, score=0.9939502576742102, total=   5.6s\n",
      "[CV] colsample_bytree=0.8, subsample=0.6 .............................\n",
      "[CV] colsample_bytree=0.8, subsample=0.6 .............................\n",
      "[CV]  colsample_bytree=0.7, subsample=0.9, score=0.9968645016797313, total=   6.3s\n",
      "[CV] colsample_bytree=0.8, subsample=0.6 .............................\n",
      "[CV]  colsample_bytree=0.8, subsample=0.6, score=0.9932825794894761, total=   5.8s\n",
      "[CV] colsample_bytree=0.8, subsample=0.7 .............................\n",
      "[CV]  colsample_bytree=0.8, subsample=0.6, score=0.9930539995518709, total=   5.5s\n",
      "[CV] colsample_bytree=0.8, subsample=0.7 .............................\n",
      "[CV]  colsample_bytree=0.8, subsample=0.6, score=0.9966405375139977, total=   6.1s\n",
      "[CV] colsample_bytree=0.8, subsample=0.7 .............................\n",
      "[CV]  colsample_bytree=0.8, subsample=0.7, score=0.9939502576742102, total=   5.7s\n",
      "[CV] colsample_bytree=0.8, subsample=0.8 .............................\n",
      "[CV]  colsample_bytree=0.8, subsample=0.7, score=0.9932825794894761, total=   6.1s\n",
      "[CV] colsample_bytree=0.8, subsample=0.8 .............................\n",
      "[CV]  colsample_bytree=0.8, subsample=0.7, score=0.9957446808510638, total=   6.3s\n",
      "[CV] colsample_bytree=0.8, subsample=0.8 .............................\n",
      "[CV]  colsample_bytree=0.8, subsample=0.8, score=0.9939502576742102, total=   5.7s\n",
      "[CV]  colsample_bytree=0.8, subsample=0.8, score=0.9928347514554411, total=   6.1s\n",
      "[CV] colsample_bytree=0.8, subsample=0.9 .............................\n",
      "[CV] colsample_bytree=0.8, subsample=0.9 .............................\n",
      "[CV]  colsample_bytree=0.8, subsample=0.8, score=0.9973124300111982, total=   6.2s\n",
      "[CV] colsample_bytree=0.8, subsample=0.9 .............................\n",
      "[CV]  colsample_bytree=0.8, subsample=0.9, score=0.9946224512659646, total=   6.0s\n",
      "[CV] colsample_bytree=0.9, subsample=0.6 .............................\n",
      "[CV]  colsample_bytree=0.8, subsample=0.9, score=0.9928347514554411, total=   6.3s\n",
      "[CV] colsample_bytree=0.9, subsample=0.6 .............................\n",
      "[CV]  colsample_bytree=0.8, subsample=0.9, score=0.9964165733482643, total=   6.4s\n",
      "[CV] colsample_bytree=0.9, subsample=0.6 .............................\n",
      "[CV]  colsample_bytree=0.9, subsample=0.6, score=0.9928347514554411, total=   5.7s\n",
      "[CV] colsample_bytree=0.9, subsample=0.7 .............................\n",
      "[CV]  colsample_bytree=0.9, subsample=0.6, score=0.9926058704907014, total=   5.7s\n",
      "[CV] colsample_bytree=0.9, subsample=0.7 .............................\n",
      "[CV]  colsample_bytree=0.9, subsample=0.6, score=0.9957446808510638, total=   6.2s\n",
      "[CV] colsample_bytree=0.9, subsample=0.7 .............................\n",
      "[CV]  colsample_bytree=0.9, subsample=0.7, score=0.9928347514554411, total=   6.0s\n",
      "[CV] colsample_bytree=0.9, subsample=0.8 .............................\n",
      "[CV]  colsample_bytree=0.9, subsample=0.7, score=0.9935021286130405, total=   6.1s\n",
      "[CV] colsample_bytree=0.9, subsample=0.8 .............................\n",
      "[CV]  colsample_bytree=0.9, subsample=0.7, score=0.9961926091825308, total=   6.5s\n",
      "[CV] colsample_bytree=0.9, subsample=0.8 .............................\n",
      "[CV]  colsample_bytree=0.9, subsample=0.8, score=0.9928347514554411, total=   6.1s\n",
      "[CV] colsample_bytree=0.9, subsample=0.9 .............................\n",
      "[CV]  colsample_bytree=0.9, subsample=0.8, score=0.9939502576742102, total=   6.1s\n",
      "[CV] colsample_bytree=0.9, subsample=0.9 .............................\n",
      "[CV]  colsample_bytree=0.9, subsample=0.8, score=0.9970884658454647, total=   6.6s\n",
      "[CV] colsample_bytree=0.9, subsample=0.9 .............................\n",
      "[CV]  colsample_bytree=0.9, subsample=0.9, score=0.9928347514554411, total=   6.2s\n",
      "[CV]  colsample_bytree=0.9, subsample=0.9, score=0.9968645016797313, total=   6.4s\n",
      "[CV]  colsample_bytree=0.9, subsample=0.9, score=0.9946224512659646, total=   6.0s\n"
     ]
    },
    {
     "name": "stderr",
     "output_type": "stream",
     "text": [
      "[Parallel(n_jobs=3)]: Done  48 out of  48 | elapsed:  1.6min finished\n"
     ]
    },
    {
     "name": "stdout",
     "output_type": "stream",
     "text": [
      "Fitting 3 folds for each of 3 candidates, totalling 9 fits\n",
      "[CV] learning_rate=0.01 ..............................................\n",
      "[CV] learning_rate=0.01 ..............................................\n",
      "[CV] learning_rate=0.01 ..............................................\n",
      "[CV] ..... learning_rate=0.01, score=0.9928347514554411, total=   6.4s\n",
      "[CV] learning_rate=0.05 ..............................................\n",
      "[CV] ...... learning_rate=0.01, score=0.994174322204795, total=   6.6s\n",
      "[CV] learning_rate=0.05 ..............................................\n",
      "[CV] ..... learning_rate=0.01, score=0.9957446808510638, total=   7.0s\n",
      "[CV] learning_rate=0.05 ..............................................\n",
      "[CV] ..... learning_rate=0.05, score=0.9928347514554411, total=   6.3s\n",
      "[CV] learning_rate=0.1 ...............................................\n",
      "[CV] ...... learning_rate=0.05, score=0.994174322204795, total=   6.3s\n",
      "[CV] learning_rate=0.1 ...............................................\n",
      "[CV] ..... learning_rate=0.05, score=0.9964165733482643, total=   6.9s\n",
      "[CV] learning_rate=0.1 ...............................................\n"
     ]
    },
    {
     "name": "stderr",
     "output_type": "stream",
     "text": [
      "[Parallel(n_jobs=3)]: Done   6 out of   9 | elapsed:   14.2s remaining:    7.1s\n"
     ]
    },
    {
     "name": "stdout",
     "output_type": "stream",
     "text": [
      "[CV] ...... learning_rate=0.1, score=0.9928347514554411, total=   6.2s\n",
      "[CV] ...... learning_rate=0.1, score=0.9946224512659646, total=   6.1s\n",
      "[CV] ...... learning_rate=0.1, score=0.9968645016797313, total=   6.5s\n"
     ]
    },
    {
     "name": "stderr",
     "output_type": "stream",
     "text": [
      "[Parallel(n_jobs=3)]: Done   9 out of   9 | elapsed:   20.6s finished\n"
     ]
    },
    {
     "name": "stdout",
     "output_type": "stream",
     "text": [
      "M 0.99481865285\n",
      "Fitting 3 folds for each of 9 candidates, totalling 27 fits\n",
      "[CV] max_depth=8, min_child_weight=1 .................................\n",
      "[CV] max_depth=8, min_child_weight=1 .................................\n",
      "[CV] max_depth=8, min_child_weight=1 .................................\n",
      "[CV]  max_depth=8, min_child_weight=1, score=0.9762651141961487, total=   7.6s\n",
      "[CV] max_depth=8, min_child_weight=3 .................................\n",
      "[CV]  max_depth=8, min_child_weight=1, score=0.9751288371050862, total=   8.2s\n",
      "[CV] max_depth=8, min_child_weight=3 .................................\n",
      "[CV]  max_depth=8, min_child_weight=1, score=0.9888017917133258, total=   8.6s\n",
      "[CV] max_depth=8, min_child_weight=3 .................................\n",
      "[CV]  max_depth=8, min_child_weight=3, score=0.9755933721450963, total=   7.4s\n",
      "[CV] max_depth=8, min_child_weight=5 .................................\n",
      "[CV]  max_depth=8, min_child_weight=3, score=0.9890257558790594, total=   8.1s\n",
      "[CV] max_depth=8, min_child_weight=5 .................................\n",
      "[CV]  max_depth=8, min_child_weight=3, score=0.9751288371050862, total=   7.7s\n",
      "[CV] max_depth=8, min_child_weight=5 .................................\n",
      "[CV]  max_depth=8, min_child_weight=5, score=0.9755933721450963, total=   7.0s\n",
      "[CV] max_depth=10, min_child_weight=1 ................................\n",
      "[CV]  max_depth=8, min_child_weight=5, score=0.9885778275475924, total=   7.6s\n",
      "[CV]  max_depth=8, min_child_weight=5, score=0.9749047725745015, total=   7.5s\n",
      "[CV] max_depth=10, min_child_weight=1 ................................\n",
      "[CV] max_depth=10, min_child_weight=1 ................................\n",
      "[CV]  max_depth=10, min_child_weight=1, score=0.9762651141961487, total=   7.8s\n",
      "[CV] max_depth=10, min_child_weight=3 ................................\n",
      "[CV]  max_depth=10, min_child_weight=1, score=0.9751288371050862, total=   7.9s\n",
      "[CV] max_depth=10, min_child_weight=3 ................................\n",
      "[CV]  max_depth=10, min_child_weight=1, score=0.9888017917133258, total=   8.2s\n",
      "[CV] max_depth=10, min_child_weight=3 ................................\n"
     ]
    },
    {
     "name": "stderr",
     "output_type": "stream",
     "text": [
      "[Parallel(n_jobs=3)]: Done  12 tasks      | elapsed:   33.1s\n"
     ]
    },
    {
     "name": "stdout",
     "output_type": "stream",
     "text": [
      "[CV]  max_depth=10, min_child_weight=3, score=0.9755933721450963, total=   7.4s\n",
      "[CV] max_depth=10, min_child_weight=5 ................................\n",
      "[CV]  max_depth=10, min_child_weight=3, score=0.9751288371050862, total=   7.7s\n",
      "[CV] max_depth=10, min_child_weight=5 ................................\n",
      "[CV]  max_depth=10, min_child_weight=3, score=0.9890257558790594, total=   8.2s\n",
      "[CV] max_depth=10, min_child_weight=5 ................................\n",
      "[CV]  max_depth=10, min_child_weight=5, score=0.9755933721450963, total=   7.0s\n",
      "[CV] max_depth=12, min_child_weight=1 ................................\n",
      "[CV]  max_depth=10, min_child_weight=5, score=0.9749047725745015, total=   7.4s\n",
      "[CV]  max_depth=10, min_child_weight=5, score=0.9885778275475924, total=   7.7s\n",
      "[CV] max_depth=12, min_child_weight=1 ................................\n",
      "[CV] max_depth=12, min_child_weight=1 ................................\n",
      "[CV]  max_depth=12, min_child_weight=1, score=0.9762651141961487, total=   7.8s\n",
      "[CV] max_depth=12, min_child_weight=3 ................................\n",
      "[CV]  max_depth=12, min_child_weight=1, score=0.9751288371050862, total=   8.0s\n",
      "[CV] max_depth=12, min_child_weight=3 ................................\n",
      "[CV]  max_depth=12, min_child_weight=1, score=0.9888017917133258, total=   8.3s\n",
      "[CV] max_depth=12, min_child_weight=3 ................................\n",
      "[CV]  max_depth=12, min_child_weight=3, score=0.9755933721450963, total=   7.4s\n",
      "[CV] max_depth=12, min_child_weight=5 ................................\n",
      "[CV]  max_depth=12, min_child_weight=3, score=0.9751288371050862, total=   7.8s\n",
      "[CV] max_depth=12, min_child_weight=5 ................................\n",
      "[CV]  max_depth=12, min_child_weight=3, score=0.9890257558790594, total=   8.1s\n",
      "[CV] max_depth=12, min_child_weight=5 ................................\n",
      "[CV]  max_depth=12, min_child_weight=5, score=0.9755933721450963, total=   6.9s\n",
      "[CV]  max_depth=12, min_child_weight=5, score=0.9749047725745015, total=   6.3s\n",
      "[CV]  max_depth=12, min_child_weight=5, score=0.9885778275475924, total=   6.6s\n"
     ]
    },
    {
     "name": "stderr",
     "output_type": "stream",
     "text": [
      "[Parallel(n_jobs=3)]: Done  27 out of  27 | elapsed:  1.2min finished\n"
     ]
    },
    {
     "name": "stdout",
     "output_type": "stream",
     "text": [
      "Fitting 3 folds for each of 3 candidates, totalling 9 fits\n",
      "[CV] gamma=0.0 .......................................................\n",
      "[CV] gamma=0.0 .......................................................\n",
      "[CV] gamma=0.0 .......................................................\n",
      "[CV] .............. gamma=0.0, score=0.9762651141961487, total=   8.3s\n",
      "[CV] gamma=0.1 .......................................................\n",
      "[CV] .............. gamma=0.0, score=0.9751288371050862, total=   8.4s\n",
      "[CV] gamma=0.1 .......................................................\n",
      "[CV] .............. gamma=0.0, score=0.9888017917133258, total=   8.9s\n",
      "[CV] gamma=0.1 .......................................................\n",
      "[CV] .............. gamma=0.1, score=0.9762651141961487, total=   8.3s\n",
      "[CV] gamma=0.2 .......................................................\n",
      "[CV] .............. gamma=0.1, score=0.9888017917133258, total=   9.1s\n",
      "[CV] gamma=0.2 .......................................................\n",
      "[CV] .............. gamma=0.1, score=0.9751288371050862, total=   8.6s\n",
      "[CV] gamma=0.2 .......................................................\n"
     ]
    },
    {
     "name": "stderr",
     "output_type": "stream",
     "text": [
      "[Parallel(n_jobs=3)]: Done   6 out of   9 | elapsed:   18.0s remaining:    9.0s\n"
     ]
    },
    {
     "name": "stdout",
     "output_type": "stream",
     "text": [
      "[CV] .............. gamma=0.2, score=0.9762651141961487, total=   8.5s\n",
      "[CV] .............. gamma=0.2, score=0.9751288371050862, total=   8.5s\n",
      "[CV] .............. gamma=0.2, score=0.9890257558790594, total=   8.7s\n"
     ]
    },
    {
     "name": "stderr",
     "output_type": "stream",
     "text": [
      "[Parallel(n_jobs=3)]: Done   9 out of   9 | elapsed:   26.7s finished\n"
     ]
    },
    {
     "name": "stdout",
     "output_type": "stream",
     "text": [
      "Fitting 3 folds for each of 16 candidates, totalling 48 fits\n",
      "[CV] colsample_bytree=0.6, subsample=0.6 .............................\n",
      "[CV] colsample_bytree=0.6, subsample=0.6 .............................\n",
      "[CV] colsample_bytree=0.6, subsample=0.6 .............................\n",
      "[CV]  colsample_bytree=0.6, subsample=0.6, score=0.9749216300940439, total=   6.3s\n",
      "[CV] colsample_bytree=0.6, subsample=0.7 .............................\n",
      "[CV]  colsample_bytree=0.6, subsample=0.6, score=0.9758010306968407, total=   6.5s\n",
      "[CV] colsample_bytree=0.6, subsample=0.7 .............................\n",
      "[CV]  colsample_bytree=0.6, subsample=0.6, score=0.9883538633818589, total=   6.8s\n",
      "[CV] colsample_bytree=0.6, subsample=0.7 .............................\n",
      "[CV]  colsample_bytree=0.6, subsample=0.7, score=0.9762651141961487, total=   6.1s\n",
      "[CV] colsample_bytree=0.6, subsample=0.8 .............................\n",
      "[CV]  colsample_bytree=0.6, subsample=0.7, score=0.9755769661662559, total=   6.6s\n",
      "[CV] colsample_bytree=0.6, subsample=0.8 .............................\n",
      "[CV]  colsample_bytree=0.6, subsample=0.7, score=0.9885778275475924, total=   6.8s\n",
      "[CV] colsample_bytree=0.6, subsample=0.8 .............................\n",
      "[CV]  colsample_bytree=0.6, subsample=0.8, score=0.9760412001791312, total=   6.5s\n",
      "[CV] colsample_bytree=0.6, subsample=0.9 .............................\n",
      "[CV]  colsample_bytree=0.6, subsample=0.8, score=0.9758010306968407, total=   6.7s\n",
      "[CV] colsample_bytree=0.6, subsample=0.9 .............................\n",
      "[CV]  colsample_bytree=0.6, subsample=0.8, score=0.9888017917133258, total=   6.8s\n",
      "[CV] colsample_bytree=0.6, subsample=0.9 .............................\n",
      "[CV]  colsample_bytree=0.6, subsample=0.9, score=0.9767129422301836, total=   6.3s\n",
      "[CV] colsample_bytree=0.7, subsample=0.6 .............................\n",
      "[CV]  colsample_bytree=0.6, subsample=0.9, score=0.9755769661662559, total=   6.6s\n",
      "[CV] colsample_bytree=0.7, subsample=0.6 .............................\n",
      "[CV]  colsample_bytree=0.6, subsample=0.9, score=0.9888017917133258, total=   6.9s\n",
      "[CV] colsample_bytree=0.7, subsample=0.6 .............................\n"
     ]
    },
    {
     "name": "stderr",
     "output_type": "stream",
     "text": [
      "[Parallel(n_jobs=3)]: Done  12 tasks      | elapsed:   27.6s\n"
     ]
    },
    {
     "name": "stdout",
     "output_type": "stream",
     "text": [
      "[CV]  colsample_bytree=0.7, subsample=0.6, score=0.9758172861621137, total=   6.5s\n",
      "[CV] colsample_bytree=0.7, subsample=0.7 .............................\n",
      "[CV]  colsample_bytree=0.7, subsample=0.6, score=0.9751288371050862, total=   6.6s\n",
      "[CV] colsample_bytree=0.7, subsample=0.7 .............................\n",
      "[CV]  colsample_bytree=0.7, subsample=0.6, score=0.9883538633818589, total=   6.9s\n",
      "[CV] colsample_bytree=0.7, subsample=0.7 .............................\n",
      "[CV]  colsample_bytree=0.7, subsample=0.7, score=0.9764890282131662, total=   6.8s\n",
      "[CV] colsample_bytree=0.7, subsample=0.8 .............................\n",
      "[CV]  colsample_bytree=0.7, subsample=0.7, score=0.9746807080439166, total=   7.0s\n",
      "[CV] colsample_bytree=0.7, subsample=0.8 .............................\n",
      "[CV]  colsample_bytree=0.7, subsample=0.7, score=0.9888017917133258, total=   7.5s\n",
      "[CV] colsample_bytree=0.7, subsample=0.8 .............................\n",
      "[CV]  colsample_bytree=0.7, subsample=0.8, score=0.9760412001791312, total=   6.8s\n",
      "[CV] colsample_bytree=0.7, subsample=0.9 .............................\n",
      "[CV]  colsample_bytree=0.7, subsample=0.8, score=0.9753529016356711, total=   6.9s\n",
      "[CV] colsample_bytree=0.7, subsample=0.9 .............................\n",
      "[CV]  colsample_bytree=0.7, subsample=0.8, score=0.9885778275475924, total=   7.3s\n",
      "[CV] colsample_bytree=0.7, subsample=0.9 .............................\n",
      "[CV]  colsample_bytree=0.7, subsample=0.9, score=0.9764890282131662, total=   6.7s\n",
      "[CV] colsample_bytree=0.8, subsample=0.6 .............................\n",
      "[CV]  colsample_bytree=0.7, subsample=0.9, score=0.9753529016356711, total=   7.0s\n",
      "[CV] colsample_bytree=0.8, subsample=0.6 .............................\n",
      "[CV]  colsample_bytree=0.7, subsample=0.9, score=0.9888017917133258, total=   7.5s\n",
      "[CV] colsample_bytree=0.8, subsample=0.6 .............................\n",
      "[CV]  colsample_bytree=0.8, subsample=0.6, score=0.9760412001791312, total=   7.1s\n",
      "[CV] colsample_bytree=0.8, subsample=0.7 .............................\n",
      "[CV]  colsample_bytree=0.8, subsample=0.6, score=0.9746807080439166, total=   7.4s\n",
      "[CV] colsample_bytree=0.8, subsample=0.7 .............................\n",
      "[CV]  colsample_bytree=0.8, subsample=0.6, score=0.9888017917133258, total=   8.0s\n",
      "[CV] colsample_bytree=0.8, subsample=0.7 .............................\n",
      "[CV]  colsample_bytree=0.8, subsample=0.7, score=0.9764890282131662, total=   7.3s\n",
      "[CV] colsample_bytree=0.8, subsample=0.8 .............................\n",
      "[CV]  colsample_bytree=0.8, subsample=0.7, score=0.9885778275475924, total=   7.9s\n",
      "[CV]  colsample_bytree=0.8, subsample=0.7, score=0.9749047725745015, total=   7.4s\n",
      "[CV] colsample_bytree=0.8, subsample=0.8 .............................\n",
      "[CV] colsample_bytree=0.8, subsample=0.8 .............................\n",
      "[CV]  colsample_bytree=0.8, subsample=0.8, score=0.9762651141961487, total=   7.2s\n",
      "[CV] colsample_bytree=0.8, subsample=0.9 .............................\n",
      "[CV]  colsample_bytree=0.8, subsample=0.8, score=0.9751288371050862, total=   7.1s\n",
      "[CV] colsample_bytree=0.8, subsample=0.9 .............................\n",
      "[CV]  colsample_bytree=0.8, subsample=0.8, score=0.9888017917133258, total=   7.7s\n",
      "[CV] colsample_bytree=0.8, subsample=0.9 .............................\n",
      "[CV]  colsample_bytree=0.8, subsample=0.9, score=0.9762651141961487, total=   7.1s\n",
      "[CV] colsample_bytree=0.9, subsample=0.6 .............................\n",
      "[CV]  colsample_bytree=0.8, subsample=0.9, score=0.9888017917133258, total=   7.8s\n",
      "[CV] colsample_bytree=0.9, subsample=0.6 .............................\n",
      "[CV]  colsample_bytree=0.8, subsample=0.9, score=0.9751288371050862, total=   7.4s\n",
      "[CV] colsample_bytree=0.9, subsample=0.6 .............................\n",
      "[CV]  colsample_bytree=0.9, subsample=0.6, score=0.9760412001791312, total=   7.0s\n",
      "[CV] colsample_bytree=0.9, subsample=0.7 .............................\n",
      "[CV]  colsample_bytree=0.9, subsample=0.6, score=0.9749047725745015, total=   7.1s\n",
      "[CV] colsample_bytree=0.9, subsample=0.7 .............................\n",
      "[CV]  colsample_bytree=0.9, subsample=0.6, score=0.9888017917133258, total=   7.7s\n",
      "[CV] colsample_bytree=0.9, subsample=0.7 .............................\n",
      "[CV]  colsample_bytree=0.9, subsample=0.7, score=0.9762651141961487, total=   7.2s\n",
      "[CV] colsample_bytree=0.9, subsample=0.8 .............................\n",
      "[CV]  colsample_bytree=0.9, subsample=0.7, score=0.9749047725745015, total=   8.2s\n",
      "[CV]  colsample_bytree=0.9, subsample=0.7, score=0.9885778275475924, total=   8.6s\n",
      "[CV] colsample_bytree=0.9, subsample=0.8 .............................\n",
      "[CV] colsample_bytree=0.9, subsample=0.8 .............................\n",
      "[CV]  colsample_bytree=0.9, subsample=0.8, score=0.9762651141961487, total=   7.9s\n",
      "[CV] colsample_bytree=0.9, subsample=0.9 .............................\n",
      "[CV]  colsample_bytree=0.9, subsample=0.8, score=0.9751288371050862, total=   8.1s\n",
      "[CV] colsample_bytree=0.9, subsample=0.9 .............................\n",
      "[CV]  colsample_bytree=0.9, subsample=0.8, score=0.9888017917133258, total=   8.4s\n",
      "[CV] colsample_bytree=0.9, subsample=0.9 .............................\n",
      "[CV]  colsample_bytree=0.9, subsample=0.9, score=0.9760412001791312, total=   7.9s\n",
      "[CV]  colsample_bytree=0.9, subsample=0.9, score=0.9751288371050862, total=   6.4s\n",
      "[CV]  colsample_bytree=0.9, subsample=0.9, score=0.9888017917133258, total=   6.8s\n"
     ]
    },
    {
     "name": "stderr",
     "output_type": "stream",
     "text": [
      "[Parallel(n_jobs=3)]: Done  48 out of  48 | elapsed:  2.0min finished\n"
     ]
    },
    {
     "name": "stdout",
     "output_type": "stream",
     "text": [
      "Fitting 3 folds for each of 3 candidates, totalling 9 fits\n",
      "[CV] learning_rate=0.01 ..............................................\n",
      "[CV] learning_rate=0.01 ..............................................\n",
      "[CV] learning_rate=0.01 ..............................................\n",
      "[CV] ..... learning_rate=0.01, score=0.9742498880429915, total=   6.8s\n",
      "[CV] learning_rate=0.05 ..............................................\n",
      "[CV] ..... learning_rate=0.01, score=0.9762491597580103, total=   7.2s\n",
      "[CV] learning_rate=0.05 ..............................................\n",
      "[CV] ..... learning_rate=0.01, score=0.9888017917133258, total=   7.3s\n",
      "[CV] learning_rate=0.05 ..............................................\n",
      "[CV] ..... learning_rate=0.05, score=0.9764890282131662, total=   6.6s\n",
      "[CV] learning_rate=0.1 ...............................................\n",
      "[CV] ..... learning_rate=0.05, score=0.9760250952274255, total=   7.0s\n",
      "[CV] learning_rate=0.1 ...............................................\n",
      "[CV] ..... learning_rate=0.05, score=0.9888017917133258, total=   7.2s\n",
      "[CV] learning_rate=0.1 ...............................................\n"
     ]
    },
    {
     "name": "stderr",
     "output_type": "stream",
     "text": [
      "[Parallel(n_jobs=3)]: Done   6 out of   9 | elapsed:   14.9s remaining:    7.4s\n"
     ]
    },
    {
     "name": "stdout",
     "output_type": "stream",
     "text": [
      "[CV] ...... learning_rate=0.1, score=0.9767129422301836, total=   6.9s\n",
      "[CV] ...... learning_rate=0.1, score=0.9888017917133258, total=   7.2s\n",
      "[CV] ...... learning_rate=0.1, score=0.9755769661662559, total=   7.1s\n"
     ]
    },
    {
     "name": "stderr",
     "output_type": "stream",
     "text": [
      "[Parallel(n_jobs=3)]: Done   9 out of   9 | elapsed:   22.1s finished\n"
     ]
    },
    {
     "name": "stdout",
     "output_type": "stream",
     "text": [
      "D 0.997972516333\n",
      "Fitting 3 folds for each of 9 candidates, totalling 27 fits\n",
      "[CV] max_depth=8, min_child_weight=1 .................................\n",
      "[CV] max_depth=8, min_child_weight=1 .................................\n",
      "[CV] max_depth=8, min_child_weight=1 .................................\n",
      "[CV] ....... max_depth=8, min_child_weight=1, score=1.0, total=   8.2s\n",
      "[CV] max_depth=8, min_child_weight=3 .................................\n",
      "[CV]  max_depth=8, min_child_weight=1, score=0.9982082866741321, total=   8.4s\n",
      "[CV] max_depth=8, min_child_weight=3 .................................\n",
      "[CV]  max_depth=8, min_child_weight=1, score=0.9984318996415771, total=   8.4s\n",
      "[CV] max_depth=8, min_child_weight=3 .................................\n",
      "[CV]  max_depth=8, min_child_weight=3, score=0.9979843225083986, total=   7.7s\n",
      "[CV] ....... max_depth=8, min_child_weight=3, score=1.0, total=   7.6s\n",
      "[CV] max_depth=8, min_child_weight=5 .................................\n",
      "[CV]  max_depth=8, min_child_weight=3, score=0.9993279569892473, total=   7.6s\n",
      "[CV] max_depth=8, min_child_weight=5 .................................\n",
      "[CV] max_depth=8, min_child_weight=5 .................................\n",
      "[CV]  max_depth=8, min_child_weight=5, score=0.9977603583426652, total=   7.7s\n",
      "[CV] max_depth=10, min_child_weight=1 ................................\n",
      "[CV]  max_depth=8, min_child_weight=5, score=0.9988799283154122, total=   7.6s\n",
      "[CV]  max_depth=8, min_child_weight=5, score=0.999552071668533, total=   7.8s\n",
      "[CV] max_depth=10, min_child_weight=1 ................................\n",
      "[CV] max_depth=10, min_child_weight=1 ................................\n",
      "[CV]  max_depth=10, min_child_weight=1, score=0.9979843225083986, total=   8.8s\n",
      "[CV] max_depth=10, min_child_weight=3 ................................\n",
      "[CV]  max_depth=10, min_child_weight=1, score=0.9988799283154122, total=   8.7s\n",
      "[CV] max_depth=10, min_child_weight=3 ................................\n",
      "[CV] ...... max_depth=10, min_child_weight=1, score=1.0, total=   8.8s\n",
      "[CV] max_depth=10, min_child_weight=3 ................................\n"
     ]
    },
    {
     "name": "stderr",
     "output_type": "stream",
     "text": [
      "[Parallel(n_jobs=3)]: Done  12 tasks      | elapsed:   33.3s\n"
     ]
    },
    {
     "name": "stdout",
     "output_type": "stream",
     "text": [
      "[CV] ...... max_depth=10, min_child_weight=3, score=1.0, total=   8.2s\n",
      "[CV]  max_depth=10, min_child_weight=3, score=0.9993279569892473, total=   8.1s\n",
      "[CV] max_depth=10, min_child_weight=5 ................................\n",
      "[CV] max_depth=10, min_child_weight=5 ................................\n",
      "[CV]  max_depth=10, min_child_weight=3, score=0.9982082866741321, total=   8.6s\n",
      "[CV] max_depth=10, min_child_weight=5 ................................\n",
      "[CV]  max_depth=10, min_child_weight=5, score=0.9977603583426652, total=   8.0s\n",
      "[CV] max_depth=12, min_child_weight=1 ................................\n",
      "[CV]  max_depth=10, min_child_weight=5, score=0.9986559139784946, total=   7.9s\n",
      "[CV] max_depth=12, min_child_weight=1 ................................\n",
      "[CV] ...... max_depth=10, min_child_weight=5, score=1.0, total=   8.2s\n",
      "[CV] max_depth=12, min_child_weight=1 ................................\n",
      "[CV]  max_depth=12, min_child_weight=1, score=0.9975363941769317, total=   9.3s\n",
      "[CV] max_depth=12, min_child_weight=3 ................................\n",
      "[CV]  max_depth=12, min_child_weight=1, score=0.9988799283154122, total=   9.4s\n",
      "[CV] max_depth=12, min_child_weight=3 ................................\n",
      "[CV] ...... max_depth=12, min_child_weight=1, score=1.0, total=   9.6s\n",
      "[CV] max_depth=12, min_child_weight=3 ................................\n",
      "[CV]  max_depth=12, min_child_weight=3, score=0.9977603583426652, total=   8.9s\n",
      "[CV] max_depth=12, min_child_weight=5 ................................\n",
      "[CV] ...... max_depth=12, min_child_weight=3, score=1.0, total=   8.9s\n",
      "[CV]  max_depth=12, min_child_weight=3, score=0.9991039426523297, total=   8.8s\n",
      "[CV] max_depth=12, min_child_weight=5 ................................\n",
      "[CV] max_depth=12, min_child_weight=5 ................................\n",
      "[CV]  max_depth=12, min_child_weight=5, score=0.9973124300111982, total=   8.0s\n",
      "[CV]  max_depth=12, min_child_weight=5, score=0.9986559139784946, total=   8.0s\n",
      "[CV] ...... max_depth=12, min_child_weight=5, score=1.0, total=   8.1s\n"
     ]
    },
    {
     "name": "stderr",
     "output_type": "stream",
     "text": [
      "[Parallel(n_jobs=3)]: Done  27 out of  27 | elapsed:  1.3min finished\n"
     ]
    },
    {
     "name": "stdout",
     "output_type": "stream",
     "text": [
      "Fitting 3 folds for each of 3 candidates, totalling 9 fits\n",
      "[CV] gamma=0.0 .......................................................\n",
      "[CV] gamma=0.0 .......................................................\n",
      "[CV] gamma=0.0 .......................................................\n",
      "[CV] .............. gamma=0.0, score=0.9982082866741321, total=   8.0s\n",
      "[CV] gamma=0.1 .......................................................\n",
      "[CV] .............. gamma=0.0, score=0.9993279569892473, total=   8.1s\n",
      "[CV] gamma=0.1 .......................................................\n",
      "[CV] ............................. gamma=0.0, score=1.0, total=   8.2s\n",
      "[CV] gamma=0.1 .......................................................\n",
      "[CV] .............. gamma=0.1, score=0.9982082866741321, total=   8.1s\n",
      "[CV] gamma=0.2 .......................................................\n",
      "[CV] .............. gamma=0.1, score=0.9988799283154122, total=   8.0s\n",
      "[CV] ............................. gamma=0.1, score=1.0, total=   8.2s\n",
      "[CV] gamma=0.2 .......................................................\n",
      "[CV] gamma=0.2 .......................................................\n"
     ]
    },
    {
     "name": "stderr",
     "output_type": "stream",
     "text": [
      "[Parallel(n_jobs=3)]: Done   6 out of   9 | elapsed:   16.8s remaining:    8.4s\n"
     ]
    },
    {
     "name": "stdout",
     "output_type": "stream",
     "text": [
      "[CV] .............. gamma=0.2, score=0.9982082866741321, total=   8.1s\n",
      "[CV] .............. gamma=0.2, score=0.9991039426523297, total=   8.0s\n",
      "[CV] ............................. gamma=0.2, score=1.0, total=   8.1s\n"
     ]
    },
    {
     "name": "stderr",
     "output_type": "stream",
     "text": [
      "[Parallel(n_jobs=3)]: Done   9 out of   9 | elapsed:   25.0s finished\n"
     ]
    },
    {
     "name": "stdout",
     "output_type": "stream",
     "text": [
      "Fitting 3 folds for each of 16 candidates, totalling 48 fits\n",
      "[CV] colsample_bytree=0.6, subsample=0.6 .............................\n",
      "[CV] colsample_bytree=0.6, subsample=0.6 .............................\n",
      "[CV] colsample_bytree=0.6, subsample=0.6 .............................\n",
      "[CV]  colsample_bytree=0.6, subsample=0.6, score=0.9975363941769317, total=   5.2s\n",
      "[CV] colsample_bytree=0.6, subsample=0.7 .............................\n",
      "[CV] ... colsample_bytree=0.6, subsample=0.6, score=1.0, total=   5.3s\n",
      "[CV]  colsample_bytree=0.6, subsample=0.6, score=0.9991039426523297, total=   5.3s\n",
      "[CV] colsample_bytree=0.6, subsample=0.7 .............................\n",
      "[CV] colsample_bytree=0.6, subsample=0.7 .............................\n",
      "[CV]  colsample_bytree=0.6, subsample=0.7, score=0.9970884658454647, total=   5.2s\n",
      "[CV] colsample_bytree=0.6, subsample=0.8 .............................\n",
      "[CV] ... colsample_bytree=0.6, subsample=0.7, score=1.0, total=   5.4s\n",
      "[CV] colsample_bytree=0.6, subsample=0.8 .............................\n",
      "[CV]  colsample_bytree=0.6, subsample=0.7, score=0.9993279569892473, total=   5.5s\n",
      "[CV] colsample_bytree=0.6, subsample=0.8 .............................\n",
      "[CV]  colsample_bytree=0.6, subsample=0.8, score=0.9970884658454647, total=   5.3s\n",
      "[CV] colsample_bytree=0.6, subsample=0.9 .............................\n",
      "[CV] ... colsample_bytree=0.6, subsample=0.8, score=1.0, total=   5.5s\n",
      "[CV] colsample_bytree=0.6, subsample=0.9 .............................\n",
      "[CV]  colsample_bytree=0.6, subsample=0.8, score=0.9988799283154122, total=   5.6s\n",
      "[CV] colsample_bytree=0.6, subsample=0.9 .............................\n",
      "[CV]  colsample_bytree=0.6, subsample=0.9, score=0.9970884658454647, total=   5.6s\n",
      "[CV] colsample_bytree=0.7, subsample=0.6 .............................\n",
      "[CV] ... colsample_bytree=0.6, subsample=0.9, score=1.0, total=   5.7s\n",
      "[CV] colsample_bytree=0.7, subsample=0.6 .............................\n",
      "[CV]  colsample_bytree=0.6, subsample=0.9, score=0.9986559139784946, total=   5.8s\n",
      "[CV] colsample_bytree=0.7, subsample=0.6 .............................\n"
     ]
    },
    {
     "name": "stderr",
     "output_type": "stream",
     "text": [
      "[Parallel(n_jobs=3)]: Done  12 tasks      | elapsed:   23.2s\n"
     ]
    },
    {
     "name": "stdout",
     "output_type": "stream",
     "text": [
      "[CV]  colsample_bytree=0.7, subsample=0.6, score=0.9970884658454647, total=   5.9s\n",
      "[CV] colsample_bytree=0.7, subsample=0.7 .............................\n",
      "[CV] ... colsample_bytree=0.7, subsample=0.6, score=1.0, total=   5.9s\n",
      "[CV] colsample_bytree=0.7, subsample=0.7 .............................\n",
      "[CV]  colsample_bytree=0.7, subsample=0.6, score=0.9993279569892473, total=   6.0s\n",
      "[CV] colsample_bytree=0.7, subsample=0.7 .............................\n",
      "[CV]  colsample_bytree=0.7, subsample=0.7, score=0.9970884658454647, total=   6.0s\n",
      "[CV] colsample_bytree=0.7, subsample=0.8 .............................\n",
      "[CV] ... colsample_bytree=0.7, subsample=0.7, score=1.0, total=   6.1s\n",
      "[CV] colsample_bytree=0.7, subsample=0.8 .............................\n",
      "[CV]  colsample_bytree=0.7, subsample=0.7, score=0.9991039426523297, total=   6.1s\n",
      "[CV] colsample_bytree=0.7, subsample=0.8 .............................\n",
      "[CV]  colsample_bytree=0.7, subsample=0.8, score=0.9970884658454647, total=   6.1s\n",
      "[CV] colsample_bytree=0.7, subsample=0.9 .............................\n",
      "[CV] ... colsample_bytree=0.7, subsample=0.8, score=1.0, total=   6.3s\n",
      "[CV] colsample_bytree=0.7, subsample=0.9 .............................\n",
      "[CV]  colsample_bytree=0.7, subsample=0.8, score=0.9991039426523297, total=   6.0s\n",
      "[CV] colsample_bytree=0.7, subsample=0.9 .............................\n",
      "[CV]  colsample_bytree=0.7, subsample=0.9, score=0.9970884658454647, total=   6.2s\n",
      "[CV] colsample_bytree=0.8, subsample=0.6 .............................\n",
      "[CV] ... colsample_bytree=0.7, subsample=0.9, score=1.0, total=   6.1s\n",
      "[CV] colsample_bytree=0.8, subsample=0.6 .............................\n",
      "[CV]  colsample_bytree=0.7, subsample=0.9, score=0.9991039426523297, total=   6.3s\n",
      "[CV] colsample_bytree=0.8, subsample=0.6 .............................\n",
      "[CV]  colsample_bytree=0.8, subsample=0.6, score=0.9973124300111982, total=   6.5s\n",
      "[CV] colsample_bytree=0.8, subsample=0.7 .............................\n",
      "[CV] ... colsample_bytree=0.8, subsample=0.6, score=1.0, total=   6.6s\n",
      "[CV] colsample_bytree=0.8, subsample=0.7 .............................\n",
      "[CV]  colsample_bytree=0.8, subsample=0.6, score=0.9986559139784946, total=   6.6s\n",
      "[CV] colsample_bytree=0.8, subsample=0.7 .............................\n",
      "[CV]  colsample_bytree=0.8, subsample=0.7, score=0.9970884658454647, total=   6.6s\n",
      "[CV] colsample_bytree=0.8, subsample=0.8 .............................\n",
      "[CV] ... colsample_bytree=0.8, subsample=0.7, score=1.0, total=   6.7s\n",
      "[CV] colsample_bytree=0.8, subsample=0.8 .............................\n",
      "[CV]  colsample_bytree=0.8, subsample=0.7, score=0.9986559139784946, total=   6.7s\n",
      "[CV] colsample_bytree=0.8, subsample=0.8 .............................\n",
      "[CV]  colsample_bytree=0.8, subsample=0.8, score=0.9975363941769317, total=   6.7s\n",
      "[CV] colsample_bytree=0.8, subsample=0.9 .............................\n",
      "[CV] ... colsample_bytree=0.8, subsample=0.8, score=1.0, total=   6.9s\n",
      "[CV] colsample_bytree=0.8, subsample=0.9 .............................\n",
      "[CV]  colsample_bytree=0.8, subsample=0.8, score=0.9991039426523297, total=   6.8s\n",
      "[CV] colsample_bytree=0.8, subsample=0.9 .............................\n",
      "[CV]  colsample_bytree=0.8, subsample=0.9, score=0.9973124300111982, total=   6.9s\n",
      "[CV] colsample_bytree=0.9, subsample=0.6 .............................\n",
      "[CV]  colsample_bytree=0.8, subsample=0.9, score=0.9991039426523297, total=   6.9s\n",
      "[CV] colsample_bytree=0.9, subsample=0.6 .............................\n",
      "[CV] ... colsample_bytree=0.8, subsample=0.9, score=1.0, total=   7.0s\n",
      "[CV] colsample_bytree=0.9, subsample=0.6 .............................\n",
      "[CV]  colsample_bytree=0.9, subsample=0.6, score=0.9973124300111982, total=   7.1s\n",
      "[CV] colsample_bytree=0.9, subsample=0.7 .............................\n",
      "[CV] ... colsample_bytree=0.9, subsample=0.6, score=1.0, total=   7.1s\n",
      "[CV]  colsample_bytree=0.9, subsample=0.6, score=0.9986559139784946, total=   7.2s\n",
      "[CV] colsample_bytree=0.9, subsample=0.7 .............................\n",
      "[CV] colsample_bytree=0.9, subsample=0.7 .............................\n",
      "[CV]  colsample_bytree=0.9, subsample=0.7, score=0.9970884658454647, total=   7.1s\n",
      "[CV] colsample_bytree=0.9, subsample=0.8 .............................\n",
      "[CV]  colsample_bytree=0.9, subsample=0.7, score=0.999552071668533, total=   7.2s\n",
      "[CV] colsample_bytree=0.9, subsample=0.8 .............................\n",
      "[CV]  colsample_bytree=0.9, subsample=0.7, score=0.9986559139784946, total=   7.3s\n",
      "[CV] colsample_bytree=0.9, subsample=0.8 .............................\n",
      "[CV]  colsample_bytree=0.9, subsample=0.8, score=0.9975363941769317, total=   7.3s\n",
      "[CV] colsample_bytree=0.9, subsample=0.9 .............................\n",
      "[CV] ... colsample_bytree=0.9, subsample=0.8, score=1.0, total=   7.4s\n",
      "[CV] colsample_bytree=0.9, subsample=0.9 .............................\n",
      "[CV]  colsample_bytree=0.9, subsample=0.8, score=0.9986559139784946, total=   7.2s\n",
      "[CV] colsample_bytree=0.9, subsample=0.9 .............................\n",
      "[CV]  colsample_bytree=0.9, subsample=0.9, score=0.9977603583426652, total=   7.3s\n",
      "[CV] ... colsample_bytree=0.9, subsample=0.9, score=1.0, total=   7.1s\n",
      "[CV]  colsample_bytree=0.9, subsample=0.9, score=0.9991039426523297, total=   7.1s\n"
     ]
    },
    {
     "name": "stderr",
     "output_type": "stream",
     "text": [
      "[Parallel(n_jobs=3)]: Done  48 out of  48 | elapsed:  1.7min finished\n"
     ]
    },
    {
     "name": "stdout",
     "output_type": "stream",
     "text": [
      "Fitting 3 folds for each of 3 candidates, totalling 9 fits\n",
      "[CV] learning_rate=0.01 ..............................................\n",
      "[CV] learning_rate=0.01 ..............................................\n",
      "[CV] learning_rate=0.01 ..............................................\n",
      "[CV] ..... learning_rate=0.01, score=0.9982078853046595, total=   8.1s\n",
      "[CV] ..... learning_rate=0.01, score=0.9957446808510638, total=   8.3s\n",
      "[CV] learning_rate=0.05 ..............................................\n",
      "[CV] learning_rate=0.05 ..............................................\n",
      "[CV] ..... learning_rate=0.01, score=0.9991041433370661, total=   8.3s\n",
      "[CV] learning_rate=0.05 ..............................................\n",
      "[CV] ...... learning_rate=0.05, score=0.999552071668533, total=   7.9s\n",
      "[CV] learning_rate=0.1 ...............................................\n",
      "[CV] ..... learning_rate=0.05, score=0.9991039426523297, total=   7.9s\n",
      "[CV] ..... learning_rate=0.05, score=0.9973124300111982, total=   8.1s\n",
      "[CV] learning_rate=0.1 ...............................................\n",
      "[CV] learning_rate=0.1 ...............................................\n"
     ]
    },
    {
     "name": "stderr",
     "output_type": "stream",
     "text": [
      "[Parallel(n_jobs=3)]: Done   6 out of   9 | elapsed:   16.8s remaining:    8.4s\n"
     ]
    },
    {
     "name": "stdout",
     "output_type": "stream",
     "text": [
      "[CV] ..................... learning_rate=0.1, score=1.0, total=   7.3s\n",
      "[CV] ...... learning_rate=0.1, score=0.9977603583426652, total=   7.5s\n",
      "[CV] ...... learning_rate=0.1, score=0.9991039426523297, total=   7.4s\n"
     ]
    },
    {
     "name": "stderr",
     "output_type": "stream",
     "text": [
      "[Parallel(n_jobs=3)]: Done   9 out of   9 | elapsed:   24.4s finished\n"
     ]
    },
    {
     "name": "stdout",
     "output_type": "stream",
     "text": [
      "C 0.986032890291\n"
     ]
    }
   ],
   "source": [
    "#Training for all the parameters XgBoost\n",
    "xgboostdict = {}\n",
    "parameterlist = ['R', 'F', 'M', 'D', 'C']\n",
    "scorer = make_scorer(f1_score, average = 'micro')\n",
    "skf = StratifiedKFold(n_splits=3)\n",
    "ind_params ={ 'n_estimators':30, 'learning_rate':0.1, 'nthread':3, 'objective': 'multi:softmax'}\n",
    "featureimportancedictXGBoost = {}\n",
    "\n",
    "for parametertoclass in parameterlist:\n",
    "    #Gridsearch creation - XGBoostingClassifier - Step 1\n",
    "    step1 = {**ind_params}\n",
    "    parameters = {'max_depth': range(8,13,2), 'min_child_weight':range(1,6,2) }\n",
    "    xgbc1 = xgb.XGBClassifier(**step1)\n",
    "    xgbcclf1 = GridSearchCV(xgbc1, parameters, scoring = scorer, n_jobs = 3, cv = skf, verbose = 5, return_train_score=True)\n",
    "    xgbcclf1.fit(X_train_scaled, ytrain[parametertoclass])\n",
    "    #xgbcclf1.score(X_test_scaled, ytest[parametertoclass])\n",
    "    \n",
    "    #Gridsearch creation - XGBoostingClassifier - Step 2\n",
    "    step2 = {**xgbcclf1.best_params_, **step1}\n",
    "    parameters = {'gamma':[i/10.0 for i in range(0,3)]}\n",
    "    xgbc2 = xgb.XGBClassifier(**step2)\n",
    "    xgbcclf2 = GridSearchCV(xgbc2, parameters, scoring = scorer, n_jobs = 3, cv = skf, verbose = 5, return_train_score=True)\n",
    "    xgbcclf2.fit(X_train_scaled, ytrain[parametertoclass])\n",
    "    #xgbcclf2.score(X_test_scaled, ytest[parametertoclass])\n",
    "    \n",
    "    #Gridsearch creation - XGBoostingClassifier - Step 3\n",
    "    step3 = {**xgbcclf2.best_params_, **step2}\n",
    "    parameters = {'subsample':[i/10.0 for i in range(6,10)], 'colsample_bytree':[i/10.0 for i in range(6,10)]}\n",
    "    xgbc3 = xgb.XGBClassifier(**step3)\n",
    "    xgbcclf3 = GridSearchCV(xgbc3, parameters, scoring = scorer, n_jobs = 3, cv = skf, verbose = 5, return_train_score=True)\n",
    "    xgbcclf3.fit(X_train_scaled, ytrain[parametertoclass])\n",
    "    #xgbcclf3.score(X_test_scaled, ytest[parametertoclass])\n",
    "    \n",
    "    #Gridsearch creation - XGBoostingClassifier - Step 4\n",
    "    step4 = {**xgbcclf3.best_params_, **step3}\n",
    "    parameters = {'learning_rate':[0.01, 0.05, 0.1]}\n",
    "    xgbc4 = xgb.XGBClassifier(**step4)\n",
    "    xgbcclf4 = GridSearchCV(xgbc4, parameters, scoring = scorer, n_jobs = 3, cv = skf, verbose = 5, return_train_score=True)\n",
    "    xgbcclf4.fit(X_train_scaled, ytrain[parametertoclass])\n",
    "    score = xgbcclf4.score(X_test_scaled, ytest[parametertoclass])\n",
    "    \n",
    "    XGBClass = xgb.XGBClassifier(**{**step4, **xgbcclf4.best_params_})\n",
    "    xgbClass = XGBClass.fit(X_train_scaled, ytrain[parametertoclass])\n",
    "    featureimportancedictXGBoost[parametertoclass] = xgbClass.feature_importances_\n",
    "    \n",
    "    print(parametertoclass , score)\n",
    "    xgboostdict[parametertoclass] = XGBClass\n",
    "    "
   ]
  },
  {
   "cell_type": "code",
   "execution_count": 113,
   "metadata": {},
   "outputs": [
    {
     "name": "stdout",
     "output_type": "stream",
     "text": [
      "### Scores for XGboost ###\n",
      "###########################\n",
      "Parameter score ##   R   ##: 0.9997747240369452 %\n",
      "Parameter score ##   F   ##: 1.0 %\n",
      "Parameter score ##   M   ##: 0.9948186528497409 %\n",
      "Parameter score ##   D   ##: 0.9979725163325073 %\n",
      "Parameter score ##   C   ##: 0.986032890290606 %\n",
      "###########################\n",
      "AVERAGE   score ## RFMDC ##: 0.99571975670196 %\n",
      "###########################\n"
     ]
    }
   ],
   "source": [
    "#Score calculation\n",
    "print('### Scores for XGboost ###')\n",
    "\n",
    "scores = []\n",
    "print('###########################')\n",
    "for parameter, classif in xgboostdict.items():\n",
    "    score = classif.score(X_test_scaled, ytest[parameter])\n",
    "    scores.append(score)\n",
    "    print('Parameter score ##   {}   ##: {} %'.format(parameter,score))\n",
    "print('###########################')\n",
    "print('AVERAGE   score ## RFMDC ##: {} %'.format(np.array(scores).mean()))\n",
    "print('###########################')"
   ]
  },
  {
   "cell_type": "code",
   "execution_count": 128,
   "metadata": {
    "scrolled": false
   },
   "outputs": [
    {
     "data": {
      "image/png": "[encoded data removed]",
      "text/plain": [
       "<matplotlib.figure.Figure at 0x1a1db83e80>"
      ]
     },
     "metadata": {},
     "output_type": "display_data"
    },
    {
     "data": {
      "image/png": "[encoded data removed]",
      "text/plain": [
       "<matplotlib.figure.Figure at 0x1a1d5ae588>"
      ]
     },
     "metadata": {},
     "output_type": "display_data"
    },
    {
     "data": {
      "image/png": "[encoded data removed]",
      "text/plain": [
       "<matplotlib.figure.Figure at 0x1a12db0160>"
      ]
     },
     "metadata": {},
     "output_type": "display_data"
    },
    {
     "data": {
      "image/png": "[encoded data removed]",
      "text/plain": [
       "<matplotlib.figure.Figure at 0x1a1dc78668>"
      ]
     },
     "metadata": {},
     "output_type": "display_data"
    },
    {
     "data": {
      "image/png": "[encoded data removed]",
      "text/plain": [
       "<matplotlib.figure.Figure at 0x1a1d840ac8>"
      ]
     },
     "metadata": {},
     "output_type": "display_data"
    }
   ],
   "source": [
    "#Confusion matrix\n",
    "labelsdict = {'R':[1,2,3,4], 'F':[1,2,3,4], 'M':[1,2,3,4], 'D':[1,2,3,4], 'C':[1,2,3]}\n",
    "for parameter, classif in xgboostdict.items():\n",
    "    labels = labelsdict[parameter]\n",
    "    confmatrix = confusion_matrix(classif.predict(X_test_scaled), ytest[parameter], labels)\n",
    "    ax = sns.heatmap(confmatrix, linewidths=.5, annot=True, fmt=\"d\", cmap = sns.color_palette(\"Blues\"))\n",
    "    plt.title('Confusion matrix - parameter {}'.format(parameter))\n",
    "    plt.xlabel('Predicted')\n",
    "    plt.ylabel('True')\n",
    "    ax.xaxis.set_ticklabels(labels)\n",
    "    ax.yaxis.set_ticklabels(labels)\n",
    "    plt.show()\n",
    "    #print(confmatrix)"
   ]
  },
  {
   "cell_type": "code",
   "execution_count": 115,
   "metadata": {},
   "outputs": [
    {
     "data": {
      "image/png": "[encoded data removed]",
      "text/plain": [
       "<matplotlib.figure.Figure at 0x1a1d346748>"
      ]
     },
     "metadata": {},
     "output_type": "display_data"
    },
    {
     "data": {
      "image/png": "[encoded data removed]",
      "text/plain": [
       "<matplotlib.figure.Figure at 0x1a1dc52550>"
      ]
     },
     "metadata": {},
     "output_type": "display_data"
    }
   ],
   "source": [
    "#Feature importance for all the features - XGBoost\n",
    "featimpXGB = pd.DataFrame(data=featureimportancedictXGBoost, index = variables)\n",
    "featimpXGB['Meanimportance'] = featimpXGB.apply(np.mean, axis = 1)\n",
    "featimpXGB = featimpXGB.sort_values('Meanimportance', ascending = False)\n",
    "featimpXGB[:10].plot(kind = 'bar')\n",
    "plt.show()\n",
    "\n",
    "featimpXGB[-10:].plot(kind = 'bar')\n",
    "plt.show()"
   ]
  },
  {
   "cell_type": "code",
   "execution_count": null,
   "metadata": {},
   "outputs": [],
   "source": []
  },
  {
   "cell_type": "code",
   "execution_count": null,
   "metadata": {},
   "outputs": [],
   "source": []
  },
  {
   "cell_type": "code",
   "execution_count": 28,
   "metadata": {},
   "outputs": [
    {
     "data": {
      "text/html": [
       "<div>\n",
       "<style scoped>\n",
       "    .dataframe tbody tr th:only-of-type {\n",
       "        vertical-align: middle;\n",
       "    }\n",
       "\n",
       "    .dataframe tbody tr th {\n",
       "        vertical-align: top;\n",
       "    }\n",
       "\n",
       "    .dataframe thead th {\n",
       "        text-align: right;\n",
       "    }\n",
       "</style>\n",
       "<table border=\"1\" class=\"dataframe\">\n",
       "  <thead>\n",
       "    <tr style=\"text-align: right;\">\n",
       "      <th></th>\n",
       "      <th>R</th>\n",
       "      <th>F</th>\n",
       "      <th>M</th>\n",
       "      <th>D</th>\n",
       "      <th>C</th>\n",
       "      <th>RFMDC</th>\n",
       "    </tr>\n",
       "  </thead>\n",
       "  <tbody>\n",
       "    <tr>\n",
       "      <th>count</th>\n",
       "      <td>244.000000</td>\n",
       "      <td>244.000000</td>\n",
       "      <td>244.000000</td>\n",
       "      <td>244.000000</td>\n",
       "      <td>244.000000</td>\n",
       "      <td>244.000000</td>\n",
       "    </tr>\n",
       "    <tr>\n",
       "      <th>mean</th>\n",
       "      <td>2.450820</td>\n",
       "      <td>2.618852</td>\n",
       "      <td>2.590164</td>\n",
       "      <td>2.413934</td>\n",
       "      <td>1.122951</td>\n",
       "      <td>27411.327869</td>\n",
       "    </tr>\n",
       "    <tr>\n",
       "      <th>std</th>\n",
       "      <td>1.093207</td>\n",
       "      <td>1.291876</td>\n",
       "      <td>1.131328</td>\n",
       "      <td>1.113317</td>\n",
       "      <td>0.386562</td>\n",
       "      <td>11698.501067</td>\n",
       "    </tr>\n",
       "    <tr>\n",
       "      <th>min</th>\n",
       "      <td>1.000000</td>\n",
       "      <td>1.000000</td>\n",
       "      <td>1.000000</td>\n",
       "      <td>1.000000</td>\n",
       "      <td>1.000000</td>\n",
       "      <td>11111.000000</td>\n",
       "    </tr>\n",
       "    <tr>\n",
       "      <th>25%</th>\n",
       "      <td>2.000000</td>\n",
       "      <td>1.000000</td>\n",
       "      <td>2.000000</td>\n",
       "      <td>1.000000</td>\n",
       "      <td>1.000000</td>\n",
       "      <td>21118.500000</td>\n",
       "    </tr>\n",
       "    <tr>\n",
       "      <th>50%</th>\n",
       "      <td>2.000000</td>\n",
       "      <td>2.000000</td>\n",
       "      <td>3.000000</td>\n",
       "      <td>2.000000</td>\n",
       "      <td>1.000000</td>\n",
       "      <td>24421.000000</td>\n",
       "    </tr>\n",
       "    <tr>\n",
       "      <th>75%</th>\n",
       "      <td>3.000000</td>\n",
       "      <td>4.000000</td>\n",
       "      <td>4.000000</td>\n",
       "      <td>3.000000</td>\n",
       "      <td>1.000000</td>\n",
       "      <td>34431.000000</td>\n",
       "    </tr>\n",
       "    <tr>\n",
       "      <th>max</th>\n",
       "      <td>4.000000</td>\n",
       "      <td>4.000000</td>\n",
       "      <td>4.000000</td>\n",
       "      <td>4.000000</td>\n",
       "      <td>3.000000</td>\n",
       "      <td>44431.000000</td>\n",
       "    </tr>\n",
       "  </tbody>\n",
       "</table>\n",
       "</div>"
      ],
      "text/plain": [
       "                R           F           M           D           C  \\\n",
       "count  244.000000  244.000000  244.000000  244.000000  244.000000   \n",
       "mean     2.450820    2.618852    2.590164    2.413934    1.122951   \n",
       "std      1.093207    1.291876    1.131328    1.113317    0.386562   \n",
       "min      1.000000    1.000000    1.000000    1.000000    1.000000   \n",
       "25%      2.000000    1.000000    2.000000    1.000000    1.000000   \n",
       "50%      2.000000    2.000000    3.000000    2.000000    1.000000   \n",
       "75%      3.000000    4.000000    4.000000    3.000000    1.000000   \n",
       "max      4.000000    4.000000    4.000000    4.000000    3.000000   \n",
       "\n",
       "              RFMDC  \n",
       "count    244.000000  \n",
       "mean   27411.327869  \n",
       "std    11698.501067  \n",
       "min    11111.000000  \n",
       "25%    21118.500000  \n",
       "50%    24421.000000  \n",
       "75%    34431.000000  \n",
       "max    44431.000000  "
      ]
     },
     "execution_count": 28,
     "metadata": {},
     "output_type": "execute_result"
    }
   ],
   "source": [
    "ytest.describe()"
   ]
  },
  {
   "cell_type": "code",
   "execution_count": null,
   "metadata": {},
   "outputs": [],
   "source": []
  }
 ],
 "metadata": {
  "kernelspec": {
   "display_name": "Python 3",
   "language": "python",
   "name": "python3"
  },
  "language_info": {
   "codemirror_mode": {
    "name": "ipython",
    "version": 3
   },
   "file_extension": ".py",
   "mimetype": "text/x-python",
   "name": "python",
   "nbconvert_exporter": "python",
   "pygments_lexer": "ipython3",
   "version": "3.6.4"
  }
 },
 "nbformat": 4,
 "nbformat_minor": 2
}
